{
 "cells": [
  {
   "cell_type": "markdown",
   "id": "fbef5f2e",
   "metadata": {
    "papermill": {
     "duration": 0.010607,
     "end_time": "2023-02-25T10:56:45.486481",
     "exception": false,
     "start_time": "2023-02-25T10:56:45.475874",
     "status": "completed"
    },
    "tags": []
   },
   "source": [
    "## The following is a case study undertaken as part of Capstone project for Google Professional Data Analytics Certificate. "
   ]
  },
  {
   "cell_type": "markdown",
   "id": "c29d3508",
   "metadata": {
    "papermill": {
     "duration": 0.009139,
     "end_time": "2023-02-25T10:56:45.504882",
     "exception": false,
     "start_time": "2023-02-25T10:56:45.495743",
     "status": "completed"
    },
    "tags": []
   },
   "source": [
    "### Scenario\n",
    "You are a junior data analyst working in the marketing analyst team at Cyclistic, a bike-share company in Chicago. The director\n",
    "of marketing believes the company’s future success depends on maximizing the number of annual memberships. Therefore,\n",
    "your team wants to understand how casual riders and annual members use Cyclistic bikes differently. From these insights,\n",
    "your team will design a new marketing strategy to convert casual riders into annual members. But first, Cyclistic executives\n",
    "must approve your recommendations, so they must be backed up with compelling data insights and professional data\n",
    "visualizations."
   ]
  },
  {
   "cell_type": "markdown",
   "id": "2d1b965d",
   "metadata": {
    "papermill": {
     "duration": 0.008933,
     "end_time": "2023-02-25T10:56:45.522904",
     "exception": false,
     "start_time": "2023-02-25T10:56:45.513971",
     "status": "completed"
    },
    "tags": []
   },
   "source": [
    "### Characters and teams\n",
    "\n",
    "* Cyclistic: A bike-share program that features more than 5,800 bicycles and 600 docking stations. Cyclistic sets itself\n",
    "apart by also offering reclining bikes, hand tricycles, and cargo bikes, making bike-share more inclusive to people with\n",
    "disabilities and riders who can’t use a standard two-wheeled bike. The majority of riders opt for traditional bikes; about\n",
    "8% of riders use the assistive options. Cyclistic users are more likely to ride for leisure, but about 30% use them to\n",
    "commute to work each day.\n",
    "\n",
    "* Lily Moreno: The director of marketing and your manager. Moreno is responsible for the development of campaigns\n",
    "and initiatives to promote the bike-share program. These may include email, social media, and other channels.\n",
    "\n",
    "* Cyclistic marketing analytics team: A team of data analysts who are responsible for collecting, analyzing, and\n",
    "reporting data that helps guide Cyclistic marketing strategy. You joined this team six months ago and have been busy\n",
    "learning about Cyclistic’s mission and business goals — as well as how you, as a junior data analyst, can help Cyclistic\n",
    "achieve them.\n",
    "\n",
    "* Cyclistic executive team: The notoriously detail-oriented executive team will decide whether to approve the\n",
    "recommended marketing program."
   ]
  },
  {
   "cell_type": "markdown",
   "id": "5606d244",
   "metadata": {
    "papermill": {
     "duration": 0.009862,
     "end_time": "2023-02-25T10:56:45.541823",
     "exception": false,
     "start_time": "2023-02-25T10:56:45.531961",
     "status": "completed"
    },
    "tags": []
   },
   "source": [
    "### About the company\n",
    "\n",
    "\n",
    "In 2016, Cyclistic launched a successful bike-share offering. Since then, the program has grown to a fleet of 5,824 bicycles that \n",
    "are geotracked and locked into a network of 692 stations across Chicago. The bikes can be unlocked from one station and\n",
    "returned to any other station in the system anytime.\n",
    "Until now, Cyclistic’s marketing strategy relied on building general awareness and appealing to broad consumer segments.\n",
    "One approach that helped make these things possible was the flexibility of its pricing plans: single-ride passes, full-day passes,\n",
    "and annual memberships. Customers who purchase single-ride or full-day passes are referred to as casual riders. Customers\n",
    "who purchase annual memberships are Cyclistic members.\n",
    "\n",
    "\n",
    "Cyclistic’s finance analysts have concluded that annual members are much more profitable than casual riders. Although the\n",
    "pricing flexibility helps Cyclistic attract more customers, Moreno believes that maximizing the number of annual members will\n",
    "be key to future growth. Rather than creating a marketing campaign that targets all-new customers, Moreno believes there is a\n",
    "very good chance to convert casual riders into members. She notes that casual riders are already aware of the Cyclistic\n",
    "program and have chosen Cyclistic for their mobility needs.\n",
    "\n",
    "\n",
    "Moreno has set a clear goal: Design marketing strategies aimed at converting casual riders into annual members. In order to\n",
    "do that, however, the marketing analyst team needs to better understand how annual members and casual riders differ, why\n",
    "casual riders would buy a membership, and how digital media could affect their marketing tactics. Moreno and her team are\n",
    "interested in analyzing the Cyclistic historical bike trip data to identify trends."
   ]
  },
  {
   "cell_type": "markdown",
   "id": "76b5792b",
   "metadata": {
    "papermill": {
     "duration": 0.010007,
     "end_time": "2023-02-25T10:56:45.561733",
     "exception": false,
     "start_time": "2023-02-25T10:56:45.551726",
     "status": "completed"
    },
    "tags": []
   },
   "source": [
    "### Three questions will guide the future marketing program:\n",
    "1.  How do annual members and casual riders use Cyclistic bikes differently?\n",
    "2. Why would casual riders buy Cyclistic annual memberships? \n",
    "3. How can Cyclistic use digital media to influence casual riders to become members?\n",
    "\n",
    "Moreno has assigned you the first question to answer: How do annual members and casual riders use Cyclistic bikes\n",
    "differently?"
   ]
  },
  {
   "cell_type": "markdown",
   "id": "22af9325",
   "metadata": {
    "papermill": {
     "duration": 0.009216,
     "end_time": "2023-02-25T10:56:45.580174",
     "exception": false,
     "start_time": "2023-02-25T10:56:45.570958",
     "status": "completed"
    },
    "tags": []
   },
   "source": [
    "#### Data Cleaning with Excel \n",
    "\n",
    "Before \n"
   ]
  },
  {
   "cell_type": "markdown",
   "id": "90fab8b9",
   "metadata": {
    "papermill": {
     "duration": 0.009035,
     "end_time": "2023-02-25T10:56:45.598383",
     "exception": false,
     "start_time": "2023-02-25T10:56:45.589348",
     "status": "completed"
    },
    "tags": []
   },
   "source": [
    "Starting the process, by first installing the required packages: \n",
    "\n",
    "1. **tidyverse**\n",
    "2. **readr**\n",
    "3. **lubridate**\n",
    "4. **ggplot** \n",
    "5. **dplyr**"
   ]
  },
  {
   "cell_type": "code",
   "execution_count": 1,
   "id": "a684a10b",
   "metadata": {
    "_cell_guid": "b1076dfc-b9ad-4769-8c92-a6c4dae69d19",
    "_uuid": "8f2839f25d086af736a60e9eeb907d3b93b6e0e5",
    "execution": {
     "iopub.execute_input": "2023-02-25T10:56:45.619939Z",
     "iopub.status.busy": "2023-02-25T10:56:45.618001Z",
     "iopub.status.idle": "2023-02-25T11:00:15.119186Z",
     "shell.execute_reply": "2023-02-25T11:00:15.117471Z"
    },
    "papermill": {
     "duration": 209.515116,
     "end_time": "2023-02-25T11:00:15.122519",
     "exception": false,
     "start_time": "2023-02-25T10:56:45.607403",
     "status": "completed"
    },
    "tags": []
   },
   "outputs": [
    {
     "name": "stderr",
     "output_type": "stream",
     "text": [
      "Installing package into ‘/usr/local/lib/R/site-library’\n",
      "(as ‘lib’ is unspecified)\n",
      "\n",
      "also installing the dependencies ‘vctrs’, ‘broom’, ‘conflicted’, ‘dplyr’, ‘forcats’, ‘ggplot2’, ‘lubridate’, ‘readr’, ‘readxl’, ‘tidyr’\n",
      "\n",
      "\n",
      "Warning message in install.packages(\"tidyverse\"):\n",
      "“installation of package ‘vctrs’ had non-zero exit status”\n",
      "Warning message in install.packages(\"tidyverse\"):\n",
      "“installation of package ‘dplyr’ had non-zero exit status”\n",
      "Warning message in install.packages(\"tidyverse\"):\n",
      "“installation of package ‘tidyr’ had non-zero exit status”\n",
      "── \u001b[1mAttaching core tidyverse packages\u001b[22m ──────────────────────── tidyverse 2.0.0 ──\n",
      "\u001b[32m✔\u001b[39m \u001b[34mdplyr    \u001b[39m 1.0.10     \u001b[32m✔\u001b[39m \u001b[34mreadr    \u001b[39m 2.1.4 \n",
      "\u001b[32m✔\u001b[39m \u001b[34mforcats  \u001b[39m 1.0.0      \u001b[32m✔\u001b[39m \u001b[34mstringr  \u001b[39m 1.5.0 \n",
      "\u001b[32m✔\u001b[39m \u001b[34mggplot2  \u001b[39m 3.4.1      \u001b[32m✔\u001b[39m \u001b[34mtibble   \u001b[39m 3.1.8 \n",
      "\u001b[32m✔\u001b[39m \u001b[34mlubridate\u001b[39m 1.9.2      \u001b[32m✔\u001b[39m \u001b[34mtidyr    \u001b[39m 1.2.1 \n",
      "\u001b[32m✔\u001b[39m \u001b[34mpurrr    \u001b[39m 1.0.1      \n",
      "── \u001b[1mConflicts\u001b[22m ────────────────────────────────────────── tidyverse_conflicts() ──\n",
      "\u001b[31m✖\u001b[39m \u001b[34mdplyr\u001b[39m::\u001b[32mfilter()\u001b[39m masks \u001b[34mstats\u001b[39m::filter()\n",
      "\u001b[31m✖\u001b[39m \u001b[34mdplyr\u001b[39m::\u001b[32mlag()\u001b[39m    masks \u001b[34mstats\u001b[39m::lag()\n",
      "\u001b[36mℹ\u001b[39m Use the conflicted package (\u001b[3m\u001b[34m<http://conflicted.r-lib.org/>\u001b[39m\u001b[23m) to force all conflicts to become errors\n"
     ]
    }
   ],
   "source": [
    "install.packages('tidyverse')\n",
    "library(tidyverse)\n",
    "library(readr)"
   ]
  },
  {
   "cell_type": "code",
   "execution_count": 2,
   "id": "5e13e093",
   "metadata": {
    "execution": {
     "iopub.execute_input": "2023-02-25T11:00:15.182453Z",
     "iopub.status.busy": "2023-02-25T11:00:15.152204Z",
     "iopub.status.idle": "2023-02-25T11:00:15.197143Z",
     "shell.execute_reply": "2023-02-25T11:00:15.195332Z"
    },
    "papermill": {
     "duration": 0.061365,
     "end_time": "2023-02-25T11:00:15.199657",
     "exception": false,
     "start_time": "2023-02-25T11:00:15.138292",
     "status": "completed"
    },
    "tags": []
   },
   "outputs": [],
   "source": [
    "library(lubridate)\n",
    "library(ggplot2)"
   ]
  },
  {
   "cell_type": "code",
   "execution_count": 3,
   "id": "8faad4f2",
   "metadata": {
    "execution": {
     "iopub.execute_input": "2023-02-25T11:00:15.222107Z",
     "iopub.status.busy": "2023-02-25T11:00:15.220538Z",
     "iopub.status.idle": "2023-02-25T11:00:44.813989Z",
     "shell.execute_reply": "2023-02-25T11:00:44.812147Z"
    },
    "papermill": {
     "duration": 29.607945,
     "end_time": "2023-02-25T11:00:44.817185",
     "exception": false,
     "start_time": "2023-02-25T11:00:15.209240",
     "status": "completed"
    },
    "tags": []
   },
   "outputs": [
    {
     "name": "stderr",
     "output_type": "stream",
     "text": [
      "Installing package into ‘/usr/local/lib/R/site-library’\n",
      "(as ‘lib’ is unspecified)\n",
      "\n",
      "also installing the dependency ‘vctrs’\n",
      "\n",
      "\n",
      "Warning message in install.packages(\"dplyr\"):\n",
      "“installation of package ‘vctrs’ had non-zero exit status”\n",
      "Warning message in install.packages(\"dplyr\"):\n",
      "“installation of package ‘dplyr’ had non-zero exit status”\n"
     ]
    }
   ],
   "source": [
    "install.packages(\"dplyr\")\n",
    "library(dplyr)"
   ]
  },
  {
   "cell_type": "markdown",
   "id": "458450d6",
   "metadata": {
    "papermill": {
     "duration": 0.00965,
     "end_time": "2023-02-25T11:00:44.837786",
     "exception": false,
     "start_time": "2023-02-25T11:00:44.828136",
     "status": "completed"
    },
    "tags": []
   },
   "source": [
    "**Reading the input data for last 12 months.**"
   ]
  },
  {
   "cell_type": "code",
   "execution_count": 4,
   "id": "26b92384",
   "metadata": {
    "execution": {
     "iopub.execute_input": "2023-02-25T11:00:44.860474Z",
     "iopub.status.busy": "2023-02-25T11:00:44.858884Z",
     "iopub.status.idle": "2023-02-25T11:01:21.649934Z",
     "shell.execute_reply": "2023-02-25T11:01:21.647859Z"
    },
    "papermill": {
     "duration": 36.804825,
     "end_time": "2023-02-25T11:01:21.652296",
     "exception": false,
     "start_time": "2023-02-25T11:00:44.847471",
     "status": "completed"
    },
    "tags": []
   },
   "outputs": [
    {
     "name": "stderr",
     "output_type": "stream",
     "text": [
      "\u001b[1m\u001b[22mNew names:\n",
      "\u001b[36m•\u001b[39m `` -> `...16`\n",
      "\u001b[36m•\u001b[39m `` -> `...17`\n",
      "\u001b[36m•\u001b[39m `` -> `...18`\n",
      "\u001b[36m•\u001b[39m `` -> `...19`\n",
      "\u001b[1mRows: \u001b[22m\u001b[34m106519\u001b[39m \u001b[1mColumns: \u001b[22m\u001b[34m19\u001b[39m\n",
      "\u001b[36m──\u001b[39m \u001b[1mColumn specification\u001b[22m \u001b[36m────────────────────────────────────────────────────────\u001b[39m\n",
      "\u001b[1mDelimiter:\u001b[22m \",\"\n",
      "\u001b[31mchr\u001b[39m  (9): ride_id, rideable_type, started_at, ended_at, start_station_name, ...\n",
      "\u001b[32mdbl\u001b[39m  (5): start_lat, start_lng, end_lat, end_lng, day_of_week\n",
      "\u001b[33mlgl\u001b[39m  (4): ...16, ...17, ...18, ...19\n",
      "\u001b[34mtime\u001b[39m (1): ride_length\n",
      "\n",
      "\u001b[36mℹ\u001b[39m Use `spec()` to retrieve the full column specification for this data.\n",
      "\u001b[36mℹ\u001b[39m Specify the column types or set `show_col_types = FALSE` to quiet this message.\n",
      "\u001b[1mRows: \u001b[22m\u001b[34m115609\u001b[39m \u001b[1mColumns: \u001b[22m\u001b[34m15\u001b[39m\n",
      "\u001b[36m──\u001b[39m \u001b[1mColumn specification\u001b[22m \u001b[36m────────────────────────────────────────────────────────\u001b[39m\n",
      "\u001b[1mDelimiter:\u001b[22m \",\"\n",
      "\u001b[31mchr\u001b[39m  (9): ride_id, rideable_type, started_at, ended_at, start_station_name, ...\n",
      "\u001b[32mdbl\u001b[39m  (5): start_lat, start_lng, end_lat, end_lng, day_of_week\n",
      "\u001b[34mtime\u001b[39m (1): ride_length\n",
      "\n",
      "\u001b[36mℹ\u001b[39m Use `spec()` to retrieve the full column specification for this data.\n",
      "\u001b[36mℹ\u001b[39m Specify the column types or set `show_col_types = FALSE` to quiet this message.\n",
      "\u001b[1mRows: \u001b[22m\u001b[34m284042\u001b[39m \u001b[1mColumns: \u001b[22m\u001b[34m15\u001b[39m\n",
      "\u001b[36m──\u001b[39m \u001b[1mColumn specification\u001b[22m \u001b[36m────────────────────────────────────────────────────────\u001b[39m\n",
      "\u001b[1mDelimiter:\u001b[22m \",\"\n",
      "\u001b[31mchr\u001b[39m  (9): ride_id, rideable_type, started_at, ended_at, start_station_name, ...\n",
      "\u001b[32mdbl\u001b[39m  (5): start_lat, start_lng, end_lat, end_lng, day_of_week\n",
      "\u001b[34mtime\u001b[39m (1): ride_length\n",
      "\n",
      "\u001b[36mℹ\u001b[39m Use `spec()` to retrieve the full column specification for this data.\n",
      "\u001b[36mℹ\u001b[39m Specify the column types or set `show_col_types = FALSE` to quiet this message.\n",
      "\u001b[1mRows: \u001b[22m\u001b[34m371249\u001b[39m \u001b[1mColumns: \u001b[22m\u001b[34m15\u001b[39m\n",
      "\u001b[36m──\u001b[39m \u001b[1mColumn specification\u001b[22m \u001b[36m────────────────────────────────────────────────────────\u001b[39m\n",
      "\u001b[1mDelimiter:\u001b[22m \",\"\n",
      "\u001b[31mchr\u001b[39m  (9): ride_id, rideable_type, started_at, ended_at, start_station_name, ...\n",
      "\u001b[32mdbl\u001b[39m  (5): start_lat, start_lng, end_lat, end_lng, day_of_week\n",
      "\u001b[34mtime\u001b[39m (1): ride_length\n",
      "\n",
      "\u001b[36mℹ\u001b[39m Use `spec()` to retrieve the full column specification for this data.\n",
      "\u001b[36mℹ\u001b[39m Specify the column types or set `show_col_types = FALSE` to quiet this message.\n",
      "Warning message:\n",
      "“\u001b[1m\u001b[22mOne or more parsing issues, call `problems()` on your data frame for details,\n",
      "e.g.:\n",
      "  dat <- vroom(...)\n",
      "  problems(dat)”\n",
      "\u001b[1mRows: \u001b[22m\u001b[34m634858\u001b[39m \u001b[1mColumns: \u001b[22m\u001b[34m15\u001b[39m\n",
      "\u001b[36m──\u001b[39m \u001b[1mColumn specification\u001b[22m \u001b[36m────────────────────────────────────────────────────────\u001b[39m\n",
      "\u001b[1mDelimiter:\u001b[22m \",\"\n",
      "\u001b[31mchr\u001b[39m  (9): ride_id, rideable_type, started_at, ended_at, start_station_name, ...\n",
      "\u001b[32mdbl\u001b[39m  (5): start_lat, start_lng, end_lat, end_lng, day_of_week\n",
      "\u001b[34mtime\u001b[39m (1): ride_length\n",
      "\n",
      "\u001b[36mℹ\u001b[39m Use `spec()` to retrieve the full column specification for this data.\n",
      "\u001b[36mℹ\u001b[39m Specify the column types or set `show_col_types = FALSE` to quiet this message.\n",
      "Warning message:\n",
      "“\u001b[1m\u001b[22mOne or more parsing issues, call `problems()` on your data frame for details,\n",
      "e.g.:\n",
      "  dat <- vroom(...)\n",
      "  problems(dat)”\n",
      "\u001b[1mRows: \u001b[22m\u001b[34m769204\u001b[39m \u001b[1mColumns: \u001b[22m\u001b[34m15\u001b[39m\n",
      "\u001b[36m──\u001b[39m \u001b[1mColumn specification\u001b[22m \u001b[36m────────────────────────────────────────────────────────\u001b[39m\n",
      "\u001b[1mDelimiter:\u001b[22m \",\"\n",
      "\u001b[31mchr\u001b[39m  (9): ride_id, rideable_type, started_at, ended_at, start_station_name, ...\n",
      "\u001b[32mdbl\u001b[39m  (5): start_lat, start_lng, end_lat, end_lng, day_of_week\n",
      "\u001b[34mtime\u001b[39m (1): ride_length\n",
      "\n",
      "\u001b[36mℹ\u001b[39m Use `spec()` to retrieve the full column specification for this data.\n",
      "\u001b[36mℹ\u001b[39m Specify the column types or set `show_col_types = FALSE` to quiet this message.\n",
      "Warning message:\n",
      "“\u001b[1m\u001b[22mOne or more parsing issues, call `problems()` on your data frame for details,\n",
      "e.g.:\n",
      "  dat <- vroom(...)\n",
      "  problems(dat)”\n",
      "\u001b[1mRows: \u001b[22m\u001b[34m823488\u001b[39m \u001b[1mColumns: \u001b[22m\u001b[34m15\u001b[39m\n",
      "\u001b[36m──\u001b[39m \u001b[1mColumn specification\u001b[22m \u001b[36m────────────────────────────────────────────────────────\u001b[39m\n",
      "\u001b[1mDelimiter:\u001b[22m \",\"\n",
      "\u001b[31mchr\u001b[39m  (9): ride_id, rideable_type, started_at, ended_at, start_station_name, ...\n",
      "\u001b[32mdbl\u001b[39m  (5): start_lat, start_lng, end_lat, end_lng, day_of_week\n",
      "\u001b[34mtime\u001b[39m (1): ride_length\n",
      "\n",
      "\u001b[36mℹ\u001b[39m Use `spec()` to retrieve the full column specification for this data.\n",
      "\u001b[36mℹ\u001b[39m Specify the column types or set `show_col_types = FALSE` to quiet this message.\n",
      "Warning message:\n",
      "“\u001b[1m\u001b[22mOne or more parsing issues, call `problems()` on your data frame for details,\n",
      "e.g.:\n",
      "  dat <- vroom(...)\n",
      "  problems(dat)”\n",
      "\u001b[1mRows: \u001b[22m\u001b[34m785932\u001b[39m \u001b[1mColumns: \u001b[22m\u001b[34m15\u001b[39m\n",
      "\u001b[36m──\u001b[39m \u001b[1mColumn specification\u001b[22m \u001b[36m────────────────────────────────────────────────────────\u001b[39m\n",
      "\u001b[1mDelimiter:\u001b[22m \",\"\n",
      "\u001b[31mchr\u001b[39m  (9): ride_id, rideable_type, started_at, ended_at, start_station_name, ...\n",
      "\u001b[32mdbl\u001b[39m  (5): start_lat, start_lng, end_lat, end_lng, day_of_week\n",
      "\u001b[34mtime\u001b[39m (1): ride_length\n",
      "\n",
      "\u001b[36mℹ\u001b[39m Use `spec()` to retrieve the full column specification for this data.\n",
      "\u001b[36mℹ\u001b[39m Specify the column types or set `show_col_types = FALSE` to quiet this message.\n",
      "Warning message:\n",
      "“\u001b[1m\u001b[22mOne or more parsing issues, call `problems()` on your data frame for details,\n",
      "e.g.:\n",
      "  dat <- vroom(...)\n",
      "  problems(dat)”\n",
      "\u001b[1mRows: \u001b[22m\u001b[34m701339\u001b[39m \u001b[1mColumns: \u001b[22m\u001b[34m15\u001b[39m\n",
      "\u001b[36m──\u001b[39m \u001b[1mColumn specification\u001b[22m \u001b[36m────────────────────────────────────────────────────────\u001b[39m\n",
      "\u001b[1mDelimiter:\u001b[22m \",\"\n",
      "\u001b[31mchr\u001b[39m  (9): ride_id, rideable_type, started_at, ended_at, start_station_name, ...\n",
      "\u001b[32mdbl\u001b[39m  (5): start_lat, start_lng, end_lat, end_lng, day_of_week\n",
      "\u001b[34mtime\u001b[39m (1): ride_length\n",
      "\n",
      "\u001b[36mℹ\u001b[39m Use `spec()` to retrieve the full column specification for this data.\n",
      "\u001b[36mℹ\u001b[39m Specify the column types or set `show_col_types = FALSE` to quiet this message.\n",
      "Warning message:\n",
      "“\u001b[1m\u001b[22mOne or more parsing issues, call `problems()` on your data frame for details,\n",
      "e.g.:\n",
      "  dat <- vroom(...)\n",
      "  problems(dat)”\n",
      "\u001b[1mRows: \u001b[22m\u001b[34m558685\u001b[39m \u001b[1mColumns: \u001b[22m\u001b[34m15\u001b[39m\n",
      "\u001b[36m──\u001b[39m \u001b[1mColumn specification\u001b[22m \u001b[36m────────────────────────────────────────────────────────\u001b[39m\n",
      "\u001b[1mDelimiter:\u001b[22m \",\"\n",
      "\u001b[31mchr\u001b[39m  (9): ride_id, rideable_type, started_at, ended_at, start_station_name, ...\n",
      "\u001b[32mdbl\u001b[39m  (5): start_lat, start_lng, end_lat, end_lng, day_of_week\n",
      "\u001b[34mtime\u001b[39m (1): ride_length\n",
      "\n",
      "\u001b[36mℹ\u001b[39m Use `spec()` to retrieve the full column specification for this data.\n",
      "\u001b[36mℹ\u001b[39m Specify the column types or set `show_col_types = FALSE` to quiet this message.\n",
      "Warning message:\n",
      "“\u001b[1m\u001b[22mOne or more parsing issues, call `problems()` on your data frame for details,\n",
      "e.g.:\n",
      "  dat <- vroom(...)\n",
      "  problems(dat)”\n",
      "\u001b[1mRows: \u001b[22m\u001b[34m337735\u001b[39m \u001b[1mColumns: \u001b[22m\u001b[34m15\u001b[39m\n",
      "\u001b[36m──\u001b[39m \u001b[1mColumn specification\u001b[22m \u001b[36m────────────────────────────────────────────────────────\u001b[39m\n",
      "\u001b[1mDelimiter:\u001b[22m \",\"\n",
      "\u001b[31mchr\u001b[39m  (9): ride_id, rideable_type, started_at, ended_at, start_station_name, ...\n",
      "\u001b[32mdbl\u001b[39m  (5): start_lat, start_lng, end_lat, end_lng, day_of_week\n",
      "\u001b[34mtime\u001b[39m (1): ride_length\n",
      "\n",
      "\u001b[36mℹ\u001b[39m Use `spec()` to retrieve the full column specification for this data.\n",
      "\u001b[36mℹ\u001b[39m Specify the column types or set `show_col_types = FALSE` to quiet this message.\n",
      "\u001b[1mRows: \u001b[22m\u001b[34m181806\u001b[39m \u001b[1mColumns: \u001b[22m\u001b[34m15\u001b[39m\n",
      "\u001b[36m──\u001b[39m \u001b[1mColumn specification\u001b[22m \u001b[36m────────────────────────────────────────────────────────\u001b[39m\n",
      "\u001b[1mDelimiter:\u001b[22m \",\"\n",
      "\u001b[31mchr\u001b[39m  (9): ride_id, rideable_type, started_at, ended_at, start_station_name, ...\n",
      "\u001b[32mdbl\u001b[39m  (5): start_lat, start_lng, end_lat, end_lng, day_of_week\n",
      "\u001b[34mtime\u001b[39m (1): ride_length\n",
      "\n",
      "\u001b[36mℹ\u001b[39m Use `spec()` to retrieve the full column specification for this data.\n",
      "\u001b[36mℹ\u001b[39m Specify the column types or set `show_col_types = FALSE` to quiet this message.\n",
      "\u001b[1mRows: \u001b[22m\u001b[34m190301\u001b[39m \u001b[1mColumns: \u001b[22m\u001b[34m15\u001b[39m\n",
      "\u001b[36m──\u001b[39m \u001b[1mColumn specification\u001b[22m \u001b[36m────────────────────────────────────────────────────────\u001b[39m\n",
      "\u001b[1mDelimiter:\u001b[22m \",\"\n",
      "\u001b[31mchr\u001b[39m  (9): ride_id, rideable_type, started_at, ended_at, start_station_name, ...\n",
      "\u001b[32mdbl\u001b[39m  (5): start_lat, start_lng, end_lat, end_lng, day_of_week\n",
      "\u001b[34mtime\u001b[39m (1): ride_length\n",
      "\n",
      "\u001b[36mℹ\u001b[39m Use `spec()` to retrieve the full column specification for this data.\n",
      "\u001b[36mℹ\u001b[39m Specify the column types or set `show_col_types = FALSE` to quiet this message.\n"
     ]
    }
   ],
   "source": [
    "jan_22 <- read_csv(\"/kaggle/input/divvy-bike-sharing/2022-01.csv\")\n",
    "feb_22 <- read_csv(\"/kaggle/input/divvy-bike-sharing/2022-02.csv\")\n",
    "mar_22 <- read_csv(\"/kaggle/input/divvy-bike-sharing/2022-03.csv\")\n",
    "april_22 <- read_csv(\"/kaggle/input/google-data-analytics-course-capstone-casestudy1/tripdata_202204.csv\")\n",
    "may_22 <- read_csv(\"/kaggle/input/divvy-bike-sharing/2022-05.csv\")\n",
    "june_22 <- read_csv(\"/kaggle/input/divvy-bike-sharing/2022-06.csv\")\n",
    "july_22 <- read_csv(\"/kaggle/input/google-data-analytics-course-capstone-casestudy1/tripdata_202207.csv\")\n",
    "aug_22 <-read_csv(\"/kaggle/input/divvy-bike-sharing/2022-08.csv\")\n",
    "sep_22 <- read_csv(\"/kaggle/input/divvy-bike-sharing/2022-09.csv\")\n",
    "oct_22 <- read_csv(\"/kaggle/input/divvy-bike-sharing/2022-10.csv\")\n",
    "nov_22 <- read_csv(\"/kaggle/input/divvy-bike-sharing/2022-11.csv\")\n",
    "dec_22 <- read_csv(\"/kaggle/input/divvy-bike-sharing/2022-12.csv\")\n",
    "jan_23 <- read_csv(\"/kaggle/input/divvy-bike-sharing/2023-01.csv\")"
   ]
  },
  {
   "cell_type": "markdown",
   "id": "2573d31c",
   "metadata": {
    "papermill": {
     "duration": 0.012627,
     "end_time": "2023-02-25T11:01:21.677648",
     "exception": false,
     "start_time": "2023-02-25T11:01:21.665021",
     "status": "completed"
    },
    "tags": []
   },
   "source": [
    "**Converting the data from csv file format to tibble as tibble are much efficient to work with in R language.**"
   ]
  },
  {
   "cell_type": "code",
   "execution_count": 5,
   "id": "9258297e",
   "metadata": {
    "execution": {
     "iopub.execute_input": "2023-02-25T11:01:21.706647Z",
     "iopub.status.busy": "2023-02-25T11:01:21.705065Z",
     "iopub.status.idle": "2023-02-25T11:01:21.746509Z",
     "shell.execute_reply": "2023-02-25T11:01:21.744625Z"
    },
    "papermill": {
     "duration": 0.058624,
     "end_time": "2023-02-25T11:01:21.749493",
     "exception": false,
     "start_time": "2023-02-25T11:01:21.690869",
     "status": "completed"
    },
    "tags": []
   },
   "outputs": [],
   "source": [
    "jan_22 <- as_tibble(jan_22)\n",
    "feb_22 <- as_tibble(feb_22)\n",
    "mar_22 <- as_tibble(mar_22)\n",
    "april_22 <- as_tibble(april_22)\n",
    "may_22 <- as_tibble(may_22)\n",
    "june_22 <- as_tibble(june_22)\n",
    "july_22 <- as_tibble(july_22)\n",
    "aug_22 <- as_tibble(aug_22)\n",
    "sep_22 <- as_tibble(sep_22)\n",
    "oct_22 <- as_tibble(oct_22)\n",
    "nov_22 <- as_tibble(nov_22)\n",
    "dec_22 <- as_tibble(dec_22)\n",
    "jan_23 <- as_tibble(jan_23)"
   ]
  },
  {
   "cell_type": "markdown",
   "id": "71cded3c",
   "metadata": {
    "papermill": {
     "duration": 0.012645,
     "end_time": "2023-02-25T11:01:21.774735",
     "exception": false,
     "start_time": "2023-02-25T11:01:21.762090",
     "status": "completed"
    },
    "tags": []
   },
   "source": [
    "It is important to view the tibbles to check for the consistency of data types across. Glimpse() allows us to get a glimpse of the data by mentioning no of columns, rows, datatypes and columnn names."
   ]
  },
  {
   "cell_type": "code",
   "execution_count": 6,
   "id": "a64b6a01",
   "metadata": {
    "execution": {
     "iopub.execute_input": "2023-02-25T11:01:21.803521Z",
     "iopub.status.busy": "2023-02-25T11:01:21.801952Z",
     "iopub.status.idle": "2023-02-25T11:01:21.846305Z",
     "shell.execute_reply": "2023-02-25T11:01:21.844345Z"
    },
    "papermill": {
     "duration": 0.061815,
     "end_time": "2023-02-25T11:01:21.849271",
     "exception": false,
     "start_time": "2023-02-25T11:01:21.787456",
     "status": "completed"
    },
    "tags": []
   },
   "outputs": [
    {
     "name": "stdout",
     "output_type": "stream",
     "text": [
      "Rows: 106,519\n",
      "Columns: 19\n",
      "$ ride_id            \u001b[3m\u001b[90m<chr>\u001b[39m\u001b[23m \"BD0F91DFF741C66D\", \"CBB80ED419105406\", \"DDC963BFDD…\n",
      "$ rideable_type      \u001b[3m\u001b[90m<chr>\u001b[39m\u001b[23m \"classic_bike\", \"classic_bike\", \"classic_bike\", \"cl…\n",
      "$ started_at         \u001b[3m\u001b[90m<chr>\u001b[39m\u001b[23m \"25-01-2022 04:53\", \"04-01-2022 00:18\", \"20-01-2022…\n",
      "$ ended_at           \u001b[3m\u001b[90m<chr>\u001b[39m\u001b[23m \"25-01-2022 04:58\", \"04-01-2022 00:33\", \"20-01-2022…\n",
      "$ start_station_name \u001b[3m\u001b[90m<chr>\u001b[39m\u001b[23m \"Sheffield Ave & Fullerton Ave\", \"Clark St & Bryn M…\n",
      "$ start_station_id   \u001b[3m\u001b[90m<chr>\u001b[39m\u001b[23m \"TA1306000016\", \"KA1504000151\", \"TA1309000002\", \"63…\n",
      "$ end_station_name   \u001b[3m\u001b[90m<chr>\u001b[39m\u001b[23m \"Greenview Ave & Fullerton Ave\", \"Paulina St & Mont…\n",
      "$ end_station_id     \u001b[3m\u001b[90m<chr>\u001b[39m\u001b[23m \"TA1307000001\", \"TA1309000021\", \"TA1305000029\", \"TA…\n",
      "$ start_lat          \u001b[3m\u001b[90m<dbl>\u001b[39m\u001b[23m 41.92560, 41.98359, 41.87785, 41.89563, 41.95434, 4…\n",
      "$ start_lng          \u001b[3m\u001b[90m<dbl>\u001b[39m\u001b[23m -87.65371, -87.66915, -87.62408, -87.67207, -87.686…\n",
      "$ end_lat            \u001b[3m\u001b[90m<dbl>\u001b[39m\u001b[23m 41.92533, 41.96151, 41.88462, 41.90312, 41.95283, 4…\n",
      "$ end_lng            \u001b[3m\u001b[90m<dbl>\u001b[39m\u001b[23m -87.66580, -87.67139, -87.62783, -87.67394, -87.649…\n",
      "$ member_casual      \u001b[3m\u001b[90m<chr>\u001b[39m\u001b[23m \"member\", \"casual\", \"member\", \"member\", \"member\", \"…\n",
      "$ ride_length        \u001b[3m\u001b[90m<time>\u001b[39m\u001b[23m 00:04:21, 00:14:56, 00:06:02, 00:03:22, 00:16:34, …\n",
      "$ day_of_week        \u001b[3m\u001b[90m<dbl>\u001b[39m\u001b[23m 3, 3, 5, 3, 1, 7, 6, 3, 1, 5, 6, 4, 2, 6, 4, 2, 5, …\n",
      "$ ...16              \u001b[3m\u001b[90m<lgl>\u001b[39m\u001b[23m NA, NA, NA, NA, NA, NA, NA, NA, NA, NA, NA, NA, NA,…\n",
      "$ ...17              \u001b[3m\u001b[90m<lgl>\u001b[39m\u001b[23m NA, NA, NA, NA, NA, NA, NA, NA, NA, NA, NA, NA, NA,…\n",
      "$ ...18              \u001b[3m\u001b[90m<lgl>\u001b[39m\u001b[23m NA, NA, NA, NA, NA, NA, NA, NA, NA, NA, NA, NA, NA,…\n",
      "$ ...19              \u001b[3m\u001b[90m<lgl>\u001b[39m\u001b[23m NA, NA, NA, NA, NA, NA, NA, NA, NA, NA, NA, NA, NA,…\n"
     ]
    }
   ],
   "source": [
    "glimpse(jan_22)"
   ]
  },
  {
   "cell_type": "markdown",
   "id": "28f0ba30",
   "metadata": {
    "papermill": {
     "duration": 0.012577,
     "end_time": "2023-02-25T11:01:21.874730",
     "exception": false,
     "start_time": "2023-02-25T11:01:21.862153",
     "status": "completed"
    },
    "tags": []
   },
   "source": [
    "In tibble jan_22, we have columns filled with NA values which are unnecessary. So, removing those with the help of filter()."
   ]
  },
  {
   "cell_type": "code",
   "execution_count": 7,
   "id": "efd5c7e4",
   "metadata": {
    "execution": {
     "iopub.execute_input": "2023-02-25T11:01:21.903300Z",
     "iopub.status.busy": "2023-02-25T11:01:21.901506Z",
     "iopub.status.idle": "2023-02-25T11:01:21.947292Z",
     "shell.execute_reply": "2023-02-25T11:01:21.944295Z"
    },
    "papermill": {
     "duration": 0.063401,
     "end_time": "2023-02-25T11:01:21.950588",
     "exception": false,
     "start_time": "2023-02-25T11:01:21.887187",
     "status": "completed"
    },
    "tags": []
   },
   "outputs": [
    {
     "name": "stdout",
     "output_type": "stream",
     "text": [
      "Rows: 106,519\n",
      "Columns: 15\n",
      "$ ride_id            \u001b[3m\u001b[90m<chr>\u001b[39m\u001b[23m \"BD0F91DFF741C66D\", \"CBB80ED419105406\", \"DDC963BFDD…\n",
      "$ rideable_type      \u001b[3m\u001b[90m<chr>\u001b[39m\u001b[23m \"classic_bike\", \"classic_bike\", \"classic_bike\", \"cl…\n",
      "$ started_at         \u001b[3m\u001b[90m<chr>\u001b[39m\u001b[23m \"25-01-2022 04:53\", \"04-01-2022 00:18\", \"20-01-2022…\n",
      "$ ended_at           \u001b[3m\u001b[90m<chr>\u001b[39m\u001b[23m \"25-01-2022 04:58\", \"04-01-2022 00:33\", \"20-01-2022…\n",
      "$ start_station_name \u001b[3m\u001b[90m<chr>\u001b[39m\u001b[23m \"Sheffield Ave & Fullerton Ave\", \"Clark St & Bryn M…\n",
      "$ start_station_id   \u001b[3m\u001b[90m<chr>\u001b[39m\u001b[23m \"TA1306000016\", \"KA1504000151\", \"TA1309000002\", \"63…\n",
      "$ end_station_name   \u001b[3m\u001b[90m<chr>\u001b[39m\u001b[23m \"Greenview Ave & Fullerton Ave\", \"Paulina St & Mont…\n",
      "$ end_station_id     \u001b[3m\u001b[90m<chr>\u001b[39m\u001b[23m \"TA1307000001\", \"TA1309000021\", \"TA1305000029\", \"TA…\n",
      "$ start_lat          \u001b[3m\u001b[90m<dbl>\u001b[39m\u001b[23m 41.92560, 41.98359, 41.87785, 41.89563, 41.95434, 4…\n",
      "$ start_lng          \u001b[3m\u001b[90m<dbl>\u001b[39m\u001b[23m -87.65371, -87.66915, -87.62408, -87.67207, -87.686…\n",
      "$ end_lat            \u001b[3m\u001b[90m<dbl>\u001b[39m\u001b[23m 41.92533, 41.96151, 41.88462, 41.90312, 41.95283, 4…\n",
      "$ end_lng            \u001b[3m\u001b[90m<dbl>\u001b[39m\u001b[23m -87.66580, -87.67139, -87.62783, -87.67394, -87.649…\n",
      "$ member_casual      \u001b[3m\u001b[90m<chr>\u001b[39m\u001b[23m \"member\", \"casual\", \"member\", \"member\", \"member\", \"…\n",
      "$ ride_length        \u001b[3m\u001b[90m<time>\u001b[39m\u001b[23m 00:04:21, 00:14:56, 00:06:02, 00:03:22, 00:16:34, …\n",
      "$ day_of_week        \u001b[3m\u001b[90m<dbl>\u001b[39m\u001b[23m 3, 3, 5, 3, 1, 7, 6, 3, 1, 5, 6, 4, 2, 6, 4, 2, 5, …\n"
     ]
    }
   ],
   "source": [
    "jan_22 <- Filter(function(x)!all(is.na(x)), jan_22)\n",
    "glimpse(jan_22)"
   ]
  },
  {
   "cell_type": "code",
   "execution_count": 8,
   "id": "2a5a9a56",
   "metadata": {
    "execution": {
     "iopub.execute_input": "2023-02-25T11:01:21.979908Z",
     "iopub.status.busy": "2023-02-25T11:01:21.977988Z",
     "iopub.status.idle": "2023-02-25T11:01:22.011037Z",
     "shell.execute_reply": "2023-02-25T11:01:22.007834Z"
    },
    "papermill": {
     "duration": 0.051916,
     "end_time": "2023-02-25T11:01:22.015101",
     "exception": false,
     "start_time": "2023-02-25T11:01:21.963185",
     "status": "completed"
    },
    "tags": []
   },
   "outputs": [
    {
     "name": "stdout",
     "output_type": "stream",
     "text": [
      "Rows: 115,609\n",
      "Columns: 15\n",
      "$ ride_id            \u001b[3m\u001b[90m<chr>\u001b[39m\u001b[23m \"E1E065E7ED285C02\", \"1602DCDC5B30FFE3\", \"BE7DD2AF4B…\n",
      "$ rideable_type      \u001b[3m\u001b[90m<chr>\u001b[39m\u001b[23m \"classic_bike\", \"classic_bike\", \"classic_bike\", \"cl…\n",
      "$ started_at         \u001b[3m\u001b[90m<chr>\u001b[39m\u001b[23m \"19-02-2022 18:08\", \"20-02-2022 17:41\", \"25-02-2022…\n",
      "$ ended_at           \u001b[3m\u001b[90m<chr>\u001b[39m\u001b[23m \"19-02-2022 18:23\", \"20-02-2022 17:45\", \"25-02-2022…\n",
      "$ start_station_name \u001b[3m\u001b[90m<chr>\u001b[39m\u001b[23m \"State St & Randolph St\", \"Halsted St & Wrightwood …\n",
      "$ start_station_id   \u001b[3m\u001b[90m<chr>\u001b[39m\u001b[23m \"TA1305000029\", \"TA1309000061\", \"TA1305000029\", \"13…\n",
      "$ end_station_name   \u001b[3m\u001b[90m<chr>\u001b[39m\u001b[23m \"Clark St & Lincoln Ave\", \"Southport Ave & Wrightwo…\n",
      "$ end_station_id     \u001b[3m\u001b[90m<chr>\u001b[39m\u001b[23m \"13179\", \"TA1307000113\", \"13011\", \"13323\", \"TA13070…\n",
      "$ start_lat          \u001b[3m\u001b[90m<dbl>\u001b[39m\u001b[23m 41.88462, 41.92914, 41.88462, 41.94815, 41.88462, 4…\n",
      "$ start_lng          \u001b[3m\u001b[90m<dbl>\u001b[39m\u001b[23m -87.62783, -87.64908, -87.62783, -87.66394, -87.627…\n",
      "$ end_lat            \u001b[3m\u001b[90m<dbl>\u001b[39m\u001b[23m 41.91569, 41.92877, 41.87926, 41.95283, 41.88584, 4…\n",
      "$ end_lng            \u001b[3m\u001b[90m<dbl>\u001b[39m\u001b[23m -87.63460, -87.66391, -87.63990, -87.64999, -87.635…\n",
      "$ member_casual      \u001b[3m\u001b[90m<chr>\u001b[39m\u001b[23m \"member\", \"member\", \"member\", \"member\", \"member\", \"…\n",
      "$ ride_length        \u001b[3m\u001b[90m<time>\u001b[39m\u001b[23m 00:15:00, 00:04:00, 00:13:00, 00:06:00, 00:02:00, …\n",
      "$ day_of_week        \u001b[3m\u001b[90m<dbl>\u001b[39m\u001b[23m 7, 1, 6, 2, 4, 2, 2, 3, 6, 1, 2, 3, 7, 7, 2, 2, 2, …\n"
     ]
    }
   ],
   "source": [
    "glimpse(feb_22)"
   ]
  },
  {
   "cell_type": "code",
   "execution_count": 9,
   "id": "c43b7c14",
   "metadata": {
    "execution": {
     "iopub.execute_input": "2023-02-25T11:01:22.045141Z",
     "iopub.status.busy": "2023-02-25T11:01:22.043264Z",
     "iopub.status.idle": "2023-02-25T11:01:22.076117Z",
     "shell.execute_reply": "2023-02-25T11:01:22.072956Z"
    },
    "papermill": {
     "duration": 0.051711,
     "end_time": "2023-02-25T11:01:22.080092",
     "exception": false,
     "start_time": "2023-02-25T11:01:22.028381",
     "status": "completed"
    },
    "tags": []
   },
   "outputs": [
    {
     "name": "stdout",
     "output_type": "stream",
     "text": [
      "Rows: 284,042\n",
      "Columns: 15\n",
      "$ ride_id            \u001b[3m\u001b[90m<chr>\u001b[39m\u001b[23m \"47EC0A7F82E65D52\", \"8494861979B0F477\", \"EFE527AF80…\n",
      "$ rideable_type      \u001b[3m\u001b[90m<chr>\u001b[39m\u001b[23m \"classic_bike\", \"electric_bike\", \"classic_bike\", \"c…\n",
      "$ started_at         \u001b[3m\u001b[90m<chr>\u001b[39m\u001b[23m \"21-03-2022 13:45\", \"16-03-2022 09:37\", \"23-03-2022…\n",
      "$ ended_at           \u001b[3m\u001b[90m<chr>\u001b[39m\u001b[23m \"21-03-2022 13:51\", \"16-03-2022 09:43\", \"23-03-2022…\n",
      "$ start_station_name \u001b[3m\u001b[90m<chr>\u001b[39m\u001b[23m \"Wabash Ave & Wacker Pl\", \"Michigan Ave & Oak St\", …\n",
      "$ start_station_id   \u001b[3m\u001b[90m<chr>\u001b[39m\u001b[23m \"TA1307000131\", \"13042\", \"13109\", \"TA1307000131\", \"…\n",
      "$ end_station_name   \u001b[3m\u001b[90m<chr>\u001b[39m\u001b[23m \"Kingsbury St & Kinzie St\", \"Orleans St & Chestnut …\n",
      "$ end_station_id     \u001b[3m\u001b[90m<chr>\u001b[39m\u001b[23m \"KA1503000043\", \"620\", \"15578\", \"TA1305000025\", \"13…\n",
      "$ start_lat          \u001b[3m\u001b[90m<dbl>\u001b[39m\u001b[23m 41.88688, 41.90100, 41.97835, 41.88688, 41.91172, 4…\n",
      "$ start_lng          \u001b[3m\u001b[90m<dbl>\u001b[39m\u001b[23m -87.62603, -87.62375, -87.65975, -87.62603, -87.626…\n",
      "$ end_lat            \u001b[3m\u001b[90m<dbl>\u001b[39m\u001b[23m 41.88918, 41.89820, 41.98404, 41.87771, 41.87794, 4…\n",
      "$ end_lng            \u001b[3m\u001b[90m<dbl>\u001b[39m\u001b[23m -87.63851, -87.63754, -87.66027, -87.63532, -87.662…\n",
      "$ member_casual      \u001b[3m\u001b[90m<chr>\u001b[39m\u001b[23m \"member\", \"member\", \"member\", \"member\", \"member\", \"…\n",
      "$ ride_length        \u001b[3m\u001b[90m<time>\u001b[39m\u001b[23m 00:06:00, 00:06:00, 00:02:00, 00:09:00, 00:42:00, …\n",
      "$ day_of_week        \u001b[3m\u001b[90m<dbl>\u001b[39m\u001b[23m 2, 4, 4, 3, 2, 2, 5, 7, 5, 6, 1, 4, 2, 2, 4, 4, 4, …\n"
     ]
    }
   ],
   "source": [
    "glimpse(mar_22)"
   ]
  },
  {
   "cell_type": "code",
   "execution_count": 10,
   "id": "d0bb69e2",
   "metadata": {
    "execution": {
     "iopub.execute_input": "2023-02-25T11:01:22.110612Z",
     "iopub.status.busy": "2023-02-25T11:01:22.108742Z",
     "iopub.status.idle": "2023-02-25T11:01:22.141274Z",
     "shell.execute_reply": "2023-02-25T11:01:22.138767Z"
    },
    "papermill": {
     "duration": 0.051202,
     "end_time": "2023-02-25T11:01:22.144390",
     "exception": false,
     "start_time": "2023-02-25T11:01:22.093188",
     "status": "completed"
    },
    "tags": []
   },
   "outputs": [
    {
     "name": "stdout",
     "output_type": "stream",
     "text": [
      "Rows: 371,249\n",
      "Columns: 15\n",
      "$ ride_id            \u001b[3m\u001b[90m<chr>\u001b[39m\u001b[23m \"3564070EEFD12711\", \"0B820C7FCF22F489\", \"89EEEE3229…\n",
      "$ rideable_type      \u001b[3m\u001b[90m<chr>\u001b[39m\u001b[23m \"electric_bike\", \"classic_bike\", \"classic_bike\", \"c…\n",
      "$ started_at         \u001b[3m\u001b[90m<chr>\u001b[39m\u001b[23m \"06-04-2022 17:42\", \"24-04-2022 19:23\", \"20-04-2022…\n",
      "$ ended_at           \u001b[3m\u001b[90m<chr>\u001b[39m\u001b[23m \"06-04-2022 17:54\", \"24-04-2022 19:43\", \"20-04-2022…\n",
      "$ start_station_name \u001b[3m\u001b[90m<chr>\u001b[39m\u001b[23m \"Paulina St & Howard St\", \"Wentworth Ave & Cermak R…\n",
      "$ start_station_id   \u001b[3m\u001b[90m<chr>\u001b[39m\u001b[23m \"515\", \"13075\", \"TA1307000121\", \"13075\", \"TA1307000…\n",
      "$ end_station_name   \u001b[3m\u001b[90m<chr>\u001b[39m\u001b[23m \"University Library (NU)\", \"Green St & Madison St\",…\n",
      "$ end_station_id     \u001b[3m\u001b[90m<chr>\u001b[39m\u001b[23m \"605\", \"TA1307000120\", \"TA1307000120\", \"KA170600500…\n",
      "$ start_lat          \u001b[3m\u001b[90m<dbl>\u001b[39m\u001b[23m 42.01913, 41.85308, 41.87184, 41.85308, 41.87181, 4…\n",
      "$ start_lng          \u001b[3m\u001b[90m<dbl>\u001b[39m\u001b[23m -87.67353, -87.63193, -87.64664, -87.63193, -87.646…\n",
      "$ end_lat            \u001b[3m\u001b[90m<dbl>\u001b[39m\u001b[23m 42.05294, 41.88189, 41.88189, 41.86749, 41.88224, 4…\n",
      "$ end_lng            \u001b[3m\u001b[90m<dbl>\u001b[39m\u001b[23m -87.67345, -87.64879, -87.64879, -87.63219, -87.641…\n",
      "$ member_casual      \u001b[3m\u001b[90m<chr>\u001b[39m\u001b[23m \"member\", \"member\", \"member\", \"casual\", \"member\", \"…\n",
      "$ ride_length        \u001b[3m\u001b[90m<time>\u001b[39m\u001b[23m 00:11:48, 00:20:10, 00:06:08, 00:09:23, 00:05:41, …\n",
      "$ day_of_week        \u001b[3m\u001b[90m<dbl>\u001b[39m\u001b[23m 4, 1, 4, 6, 7, 5, 2, 3, 6, 6, 7, 4, 4, 7, 4, 2, 2, …\n"
     ]
    }
   ],
   "source": [
    "glimpse(april_22)"
   ]
  },
  {
   "cell_type": "code",
   "execution_count": 11,
   "id": "55c439a3",
   "metadata": {
    "execution": {
     "iopub.execute_input": "2023-02-25T11:01:22.175612Z",
     "iopub.status.busy": "2023-02-25T11:01:22.173719Z",
     "iopub.status.idle": "2023-02-25T11:01:22.206214Z",
     "shell.execute_reply": "2023-02-25T11:01:22.203648Z"
    },
    "papermill": {
     "duration": 0.051667,
     "end_time": "2023-02-25T11:01:22.209261",
     "exception": false,
     "start_time": "2023-02-25T11:01:22.157594",
     "status": "completed"
    },
    "tags": []
   },
   "outputs": [
    {
     "name": "stdout",
     "output_type": "stream",
     "text": [
      "Rows: 634,858\n",
      "Columns: 15\n",
      "$ ride_id            \u001b[3m\u001b[90m<chr>\u001b[39m\u001b[23m \"EC2DE40644C6B0F4\", \"1C31AD03897EE385\", \"1542FBEC83…\n",
      "$ rideable_type      \u001b[3m\u001b[90m<chr>\u001b[39m\u001b[23m \"classic_bike\", \"classic_bike\", \"classic_bike\", \"cl…\n",
      "$ started_at         \u001b[3m\u001b[90m<chr>\u001b[39m\u001b[23m \"23-05-2022 23:06\", \"11-05-2022 08:53\", \"26-05-2022…\n",
      "$ ended_at           \u001b[3m\u001b[90m<chr>\u001b[39m\u001b[23m \"23-05-2022 23:40\", \"11-05-2022 09:31\", \"26-05-2022…\n",
      "$ start_station_name \u001b[3m\u001b[90m<chr>\u001b[39m\u001b[23m \"Wabash Ave & Grand Ave\", \"DuSable Lake Shore Dr & …\n",
      "$ start_station_id   \u001b[3m\u001b[90m<chr>\u001b[39m\u001b[23m \"TA1307000117\", \"13300\", \"TA1305000032\", \"TA1305000…\n",
      "$ end_station_name   \u001b[3m\u001b[90m<chr>\u001b[39m\u001b[23m \"Halsted St & Roscoe St\", \"Field Blvd & South Water…\n",
      "$ end_station_id     \u001b[3m\u001b[90m<chr>\u001b[39m\u001b[23m \"TA1309000025\", \"15534\", \"13221\", \"TA1305000030\", \"…\n",
      "$ start_lat          \u001b[3m\u001b[90m<dbl>\u001b[39m\u001b[23m 41.89147, 41.88096, 41.88224, 41.88224, 41.88224, 4…\n",
      "$ start_lng          \u001b[3m\u001b[90m<dbl>\u001b[39m\u001b[23m -87.62676, -87.61674, -87.64107, -87.64107, -87.641…\n",
      "$ end_lat            \u001b[3m\u001b[90m<dbl>\u001b[39m\u001b[23m 41.94367, 41.88635, 41.90765, 41.88458, 41.88578, 4…\n",
      "$ end_lng            \u001b[3m\u001b[90m<dbl>\u001b[39m\u001b[23m -87.64895, -87.61752, -87.67255, -87.63189, -87.651…\n",
      "$ member_casual      \u001b[3m\u001b[90m<chr>\u001b[39m\u001b[23m \"member\", \"member\", \"member\", \"member\", \"member\", \"…\n",
      "$ ride_length        \u001b[3m\u001b[90m<time>\u001b[39m\u001b[23m 00:33:21, 00:37:54, 00:21:50, 00:08:42, 00:05:01, …\n",
      "$ day_of_week        \u001b[3m\u001b[90m<dbl>\u001b[39m\u001b[23m 2, 4, 5, 3, 3, 4, 6, 1, 2, 4, 5, 3, 2, 4, 5, 3, 1, …\n"
     ]
    }
   ],
   "source": [
    "glimpse(may_22)"
   ]
  },
  {
   "cell_type": "code",
   "execution_count": 12,
   "id": "08c7a48d",
   "metadata": {
    "execution": {
     "iopub.execute_input": "2023-02-25T11:01:22.239444Z",
     "iopub.status.busy": "2023-02-25T11:01:22.237583Z",
     "iopub.status.idle": "2023-02-25T11:01:22.269962Z",
     "shell.execute_reply": "2023-02-25T11:01:22.267027Z"
    },
    "papermill": {
     "duration": 0.050462,
     "end_time": "2023-02-25T11:01:22.272866",
     "exception": false,
     "start_time": "2023-02-25T11:01:22.222404",
     "status": "completed"
    },
    "tags": []
   },
   "outputs": [
    {
     "name": "stdout",
     "output_type": "stream",
     "text": [
      "Rows: 769,204\n",
      "Columns: 15\n",
      "$ ride_id            \u001b[3m\u001b[90m<chr>\u001b[39m\u001b[23m \"600CFD130D0FD2A4\", \"F5E6B5C1682C6464\", \"B6EB6D27BA…\n",
      "$ rideable_type      \u001b[3m\u001b[90m<chr>\u001b[39m\u001b[23m \"electric_bike\", \"electric_bike\", \"electric_bike\", …\n",
      "$ started_at         \u001b[3m\u001b[90m<chr>\u001b[39m\u001b[23m \"30-06-2022 17:27\", \"30-06-2022 18:39\", \"30-06-2022…\n",
      "$ ended_at           \u001b[3m\u001b[90m<chr>\u001b[39m\u001b[23m \"30-06-2022 17:35\", \"30-06-2022 18:47\", \"30-06-2022…\n",
      "$ start_station_name \u001b[3m\u001b[90m<chr>\u001b[39m\u001b[23m NA, NA, NA, NA, NA, NA, NA, NA, NA, NA, NA, NA, NA,…\n",
      "$ start_station_id   \u001b[3m\u001b[90m<chr>\u001b[39m\u001b[23m NA, NA, NA, NA, NA, NA, NA, NA, NA, NA, NA, NA, NA,…\n",
      "$ end_station_name   \u001b[3m\u001b[90m<chr>\u001b[39m\u001b[23m NA, NA, NA, NA, NA, NA, NA, NA, NA, NA, NA, NA, NA,…\n",
      "$ end_station_id     \u001b[3m\u001b[90m<chr>\u001b[39m\u001b[23m NA, NA, NA, NA, NA, NA, NA, NA, NA, NA, NA, NA, NA,…\n",
      "$ start_lat          \u001b[3m\u001b[90m<dbl>\u001b[39m\u001b[23m 41.89, 41.91, 41.91, 41.80, 41.91, 42.03, 41.91, 41…\n",
      "$ start_lng          \u001b[3m\u001b[90m<dbl>\u001b[39m\u001b[23m -87.62, -87.62, -87.65, -87.66, -87.63, -87.71, -87…\n",
      "$ end_lat            \u001b[3m\u001b[90m<dbl>\u001b[39m\u001b[23m 41.91, 41.93, 41.89, 41.80, 41.93, 42.06, 41.92, 41…\n",
      "$ end_lng            \u001b[3m\u001b[90m<dbl>\u001b[39m\u001b[23m -87.62, -87.63, -87.61, -87.65, -87.64, -87.73, -87…\n",
      "$ member_casual      \u001b[3m\u001b[90m<chr>\u001b[39m\u001b[23m \"casual\", \"casual\", \"casual\", \"casual\", \"casual\", \"…\n",
      "$ ride_length        \u001b[3m\u001b[90m<time>\u001b[39m\u001b[23m 00:07:22, 00:07:36, 00:13:29, 00:04:18, 00:08:27, …\n",
      "$ day_of_week        \u001b[3m\u001b[90m<dbl>\u001b[39m\u001b[23m 5, 5, 5, 5, 4, 5, 5, 5, 5, 5, 5, 5, 5, 5, 5, 5, 5, …\n"
     ]
    }
   ],
   "source": [
    "glimpse(june_22)"
   ]
  },
  {
   "cell_type": "code",
   "execution_count": 13,
   "id": "f76150b7",
   "metadata": {
    "execution": {
     "iopub.execute_input": "2023-02-25T11:01:22.303177Z",
     "iopub.status.busy": "2023-02-25T11:01:22.301399Z",
     "iopub.status.idle": "2023-02-25T11:01:22.332835Z",
     "shell.execute_reply": "2023-02-25T11:01:22.329871Z"
    },
    "papermill": {
     "duration": 0.049692,
     "end_time": "2023-02-25T11:01:22.336064",
     "exception": false,
     "start_time": "2023-02-25T11:01:22.286372",
     "status": "completed"
    },
    "tags": []
   },
   "outputs": [
    {
     "name": "stdout",
     "output_type": "stream",
     "text": [
      "Rows: 823,488\n",
      "Columns: 15\n",
      "$ ride_id            \u001b[3m\u001b[90m<chr>\u001b[39m\u001b[23m \"954144C2F67B1932\", \"292E027607D218B6\", \"5776585258…\n",
      "$ rideable_type      \u001b[3m\u001b[90m<chr>\u001b[39m\u001b[23m \"classic_bike\", \"classic_bike\", \"classic_bike\", \"cl…\n",
      "$ started_at         \u001b[3m\u001b[90m<chr>\u001b[39m\u001b[23m \"05-07-2022 08:12\", \"26-07-2022 12:53\", \"03-07-2022…\n",
      "$ ended_at           \u001b[3m\u001b[90m<chr>\u001b[39m\u001b[23m \"05-07-2022 08:24\", \"26-07-2022 12:55\", \"03-07-2022…\n",
      "$ start_station_name \u001b[3m\u001b[90m<chr>\u001b[39m\u001b[23m \"Ashland Ave & Blackhawk St\", \"Buckingham Fountain …\n",
      "$ start_station_id   \u001b[3m\u001b[90m<chr>\u001b[39m\u001b[23m \"13224\", \"15541\", \"15541\", \"15541\", \"TA1307000117\",…\n",
      "$ end_station_name   \u001b[3m\u001b[90m<chr>\u001b[39m\u001b[23m \"Kingsbury St & Kinzie St\", \"Michigan Ave & 8th St\"…\n",
      "$ end_station_id     \u001b[3m\u001b[90m<chr>\u001b[39m\u001b[23m \"KA1503000043\", \"623\", \"623\", \"TA1307000164\", \"TA13…\n",
      "$ start_lat          \u001b[3m\u001b[90m<dbl>\u001b[39m\u001b[23m 41.90707, 41.86962, 41.86962, 41.86962, 41.89147, 4…\n",
      "$ start_lng          \u001b[3m\u001b[90m<dbl>\u001b[39m\u001b[23m -87.66725, -87.62398, -87.62398, -87.62398, -87.626…\n",
      "$ end_lat            \u001b[3m\u001b[90m<dbl>\u001b[39m\u001b[23m 41.88918, 41.87277, 41.87277, 41.79526, 41.93625, 4…\n",
      "$ end_lng            \u001b[3m\u001b[90m<dbl>\u001b[39m\u001b[23m -87.63851, -87.62398, -87.62398, -87.59647, -87.652…\n",
      "$ member_casual      \u001b[3m\u001b[90m<chr>\u001b[39m\u001b[23m \"member\", \"casual\", \"casual\", \"casual\", \"member\", \"…\n",
      "$ ride_length        \u001b[3m\u001b[90m<time>\u001b[39m\u001b[23m 00:11:45, 00:01:53, 00:07:43, 00:58:29, 00:26:18, …\n",
      "$ day_of_week        \u001b[3m\u001b[90m<dbl>\u001b[39m\u001b[23m 3, 3, 1, 1, 4, 6, 2, 5, 1, 1, 6, 7, 3, 4, 2, 1, 5, …\n"
     ]
    }
   ],
   "source": [
    "glimpse(july_22)"
   ]
  },
  {
   "cell_type": "code",
   "execution_count": 14,
   "id": "e38d4aef",
   "metadata": {
    "execution": {
     "iopub.execute_input": "2023-02-25T11:01:22.366480Z",
     "iopub.status.busy": "2023-02-25T11:01:22.364563Z",
     "iopub.status.idle": "2023-02-25T11:01:22.395249Z",
     "shell.execute_reply": "2023-02-25T11:01:22.392303Z"
    },
    "papermill": {
     "duration": 0.049122,
     "end_time": "2023-02-25T11:01:22.398450",
     "exception": false,
     "start_time": "2023-02-25T11:01:22.349328",
     "status": "completed"
    },
    "tags": []
   },
   "outputs": [
    {
     "name": "stdout",
     "output_type": "stream",
     "text": [
      "Rows: 785,932\n",
      "Columns: 15\n",
      "$ ride_id            \u001b[3m\u001b[90m<chr>\u001b[39m\u001b[23m \"550CF7EFEAE0C618\", \"DAD198F405F9C5F5\", \"E6F2BC47B6…\n",
      "$ rideable_type      \u001b[3m\u001b[90m<chr>\u001b[39m\u001b[23m \"electric_bike\", \"electric_bike\", \"electric_bike\", …\n",
      "$ started_at         \u001b[3m\u001b[90m<chr>\u001b[39m\u001b[23m \"07-08-2022 21:34\", \"08-08-2022 14:39\", \"08-08-2022…\n",
      "$ ended_at           \u001b[3m\u001b[90m<chr>\u001b[39m\u001b[23m \"07-08-2022 21:41\", \"08-08-2022 14:53\", \"08-08-2022…\n",
      "$ start_station_name \u001b[3m\u001b[90m<chr>\u001b[39m\u001b[23m NA, NA, NA, NA, NA, NA, NA, NA, NA, NA, NA, NA, NA,…\n",
      "$ start_station_id   \u001b[3m\u001b[90m<chr>\u001b[39m\u001b[23m NA, NA, NA, NA, NA, NA, NA, NA, NA, NA, NA, NA, NA,…\n",
      "$ end_station_name   \u001b[3m\u001b[90m<chr>\u001b[39m\u001b[23m NA, NA, NA, NA, NA, NA, NA, NA, NA, NA, NA, NA, NA,…\n",
      "$ end_station_id     \u001b[3m\u001b[90m<chr>\u001b[39m\u001b[23m NA, NA, NA, NA, NA, NA, NA, NA, NA, NA, NA, NA, NA,…\n",
      "$ start_lat          \u001b[3m\u001b[90m<dbl>\u001b[39m\u001b[23m 41.93, 41.89, 41.97, 41.94, 41.85, 41.79, 41.89, 41…\n",
      "$ start_lng          \u001b[3m\u001b[90m<dbl>\u001b[39m\u001b[23m -87.69, -87.64, -87.69, -87.65, -87.65, -87.72, -87…\n",
      "$ end_lat            \u001b[3m\u001b[90m<dbl>\u001b[39m\u001b[23m 41.94, 41.92, 41.97, 41.97, 41.84, 41.82, 41.89, 41…\n",
      "$ end_lng            \u001b[3m\u001b[90m<dbl>\u001b[39m\u001b[23m -87.72, -87.64, -87.66, -87.69, -87.66, -87.69, -87…\n",
      "$ member_casual      \u001b[3m\u001b[90m<chr>\u001b[39m\u001b[23m \"casual\", \"casual\", \"casual\", \"casual\", \"casual\", \"…\n",
      "$ ride_length        \u001b[3m\u001b[90m<time>\u001b[39m\u001b[23m 00:07:31, 00:14:02, 00:10:44, 00:15:03, 00:05:52, …\n",
      "$ day_of_week        \u001b[3m\u001b[90m<dbl>\u001b[39m\u001b[23m 1, 2, 2, 2, 1, 2, 2, 1, 1, 1, 1, 2, 1, 2, 2, 1, 1, …\n"
     ]
    }
   ],
   "source": [
    "glimpse(aug_22)"
   ]
  },
  {
   "cell_type": "code",
   "execution_count": 15,
   "id": "323fac8a",
   "metadata": {
    "execution": {
     "iopub.execute_input": "2023-02-25T11:01:22.429261Z",
     "iopub.status.busy": "2023-02-25T11:01:22.427380Z",
     "iopub.status.idle": "2023-02-25T11:01:22.458352Z",
     "shell.execute_reply": "2023-02-25T11:01:22.456006Z"
    },
    "papermill": {
     "duration": 0.048867,
     "end_time": "2023-02-25T11:01:22.460920",
     "exception": false,
     "start_time": "2023-02-25T11:01:22.412053",
     "status": "completed"
    },
    "tags": []
   },
   "outputs": [
    {
     "name": "stdout",
     "output_type": "stream",
     "text": [
      "Rows: 701,339\n",
      "Columns: 15\n",
      "$ ride_id            \u001b[3m\u001b[90m<chr>\u001b[39m\u001b[23m \"5156990AC19CA285\", \"E12D4A16BF51C274\", \"A02B53CD7D…\n",
      "$ rideable_type      \u001b[3m\u001b[90m<chr>\u001b[39m\u001b[23m \"electric_bike\", \"electric_bike\", \"electric_bike\", …\n",
      "$ started_at         \u001b[3m\u001b[90m<chr>\u001b[39m\u001b[23m \"01-09-2022 08:36\", \"01-09-2022 17:11\", \"01-09-2022…\n",
      "$ ended_at           \u001b[3m\u001b[90m<chr>\u001b[39m\u001b[23m \"01-09-2022 08:39\", \"01-09-2022 17:14\", \"01-09-2022…\n",
      "$ start_station_name \u001b[3m\u001b[90m<chr>\u001b[39m\u001b[23m NA, NA, NA, NA, NA, NA, NA, NA, NA, NA, NA, NA, NA,…\n",
      "$ start_station_id   \u001b[3m\u001b[90m<chr>\u001b[39m\u001b[23m NA, NA, NA, NA, NA, NA, NA, NA, NA, NA, NA, NA, NA,…\n",
      "$ end_station_name   \u001b[3m\u001b[90m<chr>\u001b[39m\u001b[23m \"California Ave & Milwaukee Ave\", NA, NA, NA, NA, N…\n",
      "$ end_station_id     \u001b[3m\u001b[90m<chr>\u001b[39m\u001b[23m \"13084\", NA, NA, NA, NA, NA, NA, NA, NA, NA, NA, NA…\n",
      "$ start_lat          \u001b[3m\u001b[90m<dbl>\u001b[39m\u001b[23m 41.93000, 41.87000, 41.87000, 41.93000, 41.92000, 4…\n",
      "$ start_lng          \u001b[3m\u001b[90m<dbl>\u001b[39m\u001b[23m -87.69000, -87.62000, -87.62000, -87.69000, -87.730…\n",
      "$ end_lat            \u001b[3m\u001b[90m<dbl>\u001b[39m\u001b[23m 41.92269, 41.87000, 41.87000, 41.94000, 41.92000, 4…\n",
      "$ end_lng            \u001b[3m\u001b[90m<dbl>\u001b[39m\u001b[23m -87.69715, -87.62000, -87.62000, -87.67000, -87.730…\n",
      "$ member_casual      \u001b[3m\u001b[90m<chr>\u001b[39m\u001b[23m \"casual\", \"casual\", \"casual\", \"casual\", \"casual\", \"…\n",
      "$ ride_length        \u001b[3m\u001b[90m<time>\u001b[39m\u001b[23m 00:02:43, 00:03:16, 00:00:22, 00:10:04, 00:02:25, …\n",
      "$ day_of_week        \u001b[3m\u001b[90m<dbl>\u001b[39m\u001b[23m 5, 5, 5, 5, 5, 5, 5, 5, 5, 5, 5, 5, 5, 5, 5, 5, 5, …\n"
     ]
    }
   ],
   "source": [
    "glimpse(sep_22)"
   ]
  },
  {
   "cell_type": "code",
   "execution_count": 16,
   "id": "9e3a55b2",
   "metadata": {
    "execution": {
     "iopub.execute_input": "2023-02-25T11:01:22.532194Z",
     "iopub.status.busy": "2023-02-25T11:01:22.530292Z",
     "iopub.status.idle": "2023-02-25T11:01:22.561211Z",
     "shell.execute_reply": "2023-02-25T11:01:22.558880Z"
    },
    "papermill": {
     "duration": 0.04937,
     "end_time": "2023-02-25T11:01:22.564212",
     "exception": false,
     "start_time": "2023-02-25T11:01:22.514842",
     "status": "completed"
    },
    "tags": []
   },
   "outputs": [
    {
     "name": "stdout",
     "output_type": "stream",
     "text": [
      "Rows: 558,685\n",
      "Columns: 15\n",
      "$ ride_id            \u001b[3m\u001b[90m<chr>\u001b[39m\u001b[23m \"A50255C1E17942AB\", \"DB692A70BD2DD4E3\", \"3C02727AAF…\n",
      "$ rideable_type      \u001b[3m\u001b[90m<chr>\u001b[39m\u001b[23m \"classic_bike\", \"electric_bike\", \"electric_bike\", \"…\n",
      "$ started_at         \u001b[3m\u001b[90m<chr>\u001b[39m\u001b[23m \"14-10-2022 17:13\", \"01-10-2022 16:29\", \"19-10-2022…\n",
      "$ ended_at           \u001b[3m\u001b[90m<chr>\u001b[39m\u001b[23m \"14-10-2022 17:19\", \"01-10-2022 16:49\", \"19-10-2022…\n",
      "$ start_station_name \u001b[3m\u001b[90m<chr>\u001b[39m\u001b[23m \"Noble St & Milwaukee Ave\", \"Damen Ave & Charleston…\n",
      "$ start_station_id   \u001b[3m\u001b[90m<chr>\u001b[39m\u001b[23m \"13290\", \"13288\", \"655\", \"KA1504000133\", \"13028\", \"…\n",
      "$ end_station_name   \u001b[3m\u001b[90m<chr>\u001b[39m\u001b[23m \"Larrabee St & Division St\", \"Damen Ave & Cullerton…\n",
      "$ end_station_id     \u001b[3m\u001b[90m<chr>\u001b[39m\u001b[23m \"KA1504000079\", \"13089\", \"TA1307000140\", \"620\", \"13…\n",
      "$ start_lat          \u001b[3m\u001b[90m<dbl>\u001b[39m\u001b[23m 41.90068, 41.92004, 41.97988, 41.90227, 41.87475, 4…\n",
      "$ start_lng          \u001b[3m\u001b[90m<dbl>\u001b[39m\u001b[23m -87.66260, -87.67794, -87.68190, -87.62769, -87.649…\n",
      "$ end_lat            \u001b[3m\u001b[90m<dbl>\u001b[39m\u001b[23m 41.90349, 41.85497, 41.96640, 41.89820, 41.86610, 4…\n",
      "$ end_lng            \u001b[3m\u001b[90m<dbl>\u001b[39m\u001b[23m -87.64335, -87.67570, -87.68870, -87.63754, -87.607…\n",
      "$ member_casual      \u001b[3m\u001b[90m<chr>\u001b[39m\u001b[23m \"member\", \"casual\", \"member\", \"member\", \"casual\", \"…\n",
      "$ ride_length        \u001b[3m\u001b[90m<time>\u001b[39m\u001b[23m 00:06:09, 00:19:40, 00:07:50, 00:06:13, 00:45:15, …\n",
      "$ day_of_week        \u001b[3m\u001b[90m<dbl>\u001b[39m\u001b[23m 6, 7, 4, 2, 5, 5, 5, 4, 7, 2, 7, 5, 1, 1, 2, 6, 1, …\n"
     ]
    }
   ],
   "source": [
    "glimpse(oct_22)"
   ]
  },
  {
   "cell_type": "code",
   "execution_count": 17,
   "id": "f1c52028",
   "metadata": {
    "execution": {
     "iopub.execute_input": "2023-02-25T11:01:22.596017Z",
     "iopub.status.busy": "2023-02-25T11:01:22.594147Z",
     "iopub.status.idle": "2023-02-25T11:01:22.626957Z",
     "shell.execute_reply": "2023-02-25T11:01:22.622723Z"
    },
    "papermill": {
     "duration": 0.05108,
     "end_time": "2023-02-25T11:01:22.629752",
     "exception": false,
     "start_time": "2023-02-25T11:01:22.578672",
     "status": "completed"
    },
    "tags": []
   },
   "outputs": [
    {
     "name": "stdout",
     "output_type": "stream",
     "text": [
      "Rows: 337,735\n",
      "Columns: 15\n",
      "$ ride_id            \u001b[3m\u001b[90m<chr>\u001b[39m\u001b[23m \"BCC66FC6FAB27CC7\", \"772AB67E902C180F\", \"585EAD07FD…\n",
      "$ rideable_type      \u001b[3m\u001b[90m<chr>\u001b[39m\u001b[23m \"electric_bike\", \"classic_bike\", \"classic_bike\", \"c…\n",
      "$ started_at         \u001b[3m\u001b[90m<chr>\u001b[39m\u001b[23m \"10-11-2022 06:21\", \"04-11-2022 07:31\", \"21-11-2022…\n",
      "$ ended_at           \u001b[3m\u001b[90m<chr>\u001b[39m\u001b[23m \"10-11-2022 06:31\", \"04-11-2022 07:46\", \"21-11-2022…\n",
      "$ start_station_name \u001b[3m\u001b[90m<chr>\u001b[39m\u001b[23m \"Canal St & Adams St\", \"Canal St & Adams St\", \"Indi…\n",
      "$ start_station_id   \u001b[3m\u001b[90m<chr>\u001b[39m\u001b[23m \"13011\", \"13011\", \"SL-005\", \"SL-005\", \"SL-005\", \"13…\n",
      "$ end_station_name   \u001b[3m\u001b[90m<chr>\u001b[39m\u001b[23m \"St. Clair St & Erie St\", \"St. Clair St & Erie St\",…\n",
      "$ end_station_id     \u001b[3m\u001b[90m<chr>\u001b[39m\u001b[23m \"13016\", \"13016\", \"13016\", \"13016\", \"13016\", \"TA130…\n",
      "$ start_lat          \u001b[3m\u001b[90m<dbl>\u001b[39m\u001b[23m 41.87940, 41.87926, 41.86789, 41.86789, 41.86789, 4…\n",
      "$ start_lng          \u001b[3m\u001b[90m<dbl>\u001b[39m\u001b[23m -87.63985, -87.63990, -87.62304, -87.62304, -87.623…\n",
      "$ end_lat            \u001b[3m\u001b[90m<dbl>\u001b[39m\u001b[23m 41.89435, 41.89435, 41.89435, 41.89435, 41.89435, 4…\n",
      "$ end_lng            \u001b[3m\u001b[90m<dbl>\u001b[39m\u001b[23m -87.62280, -87.62280, -87.62280, -87.62280, -87.622…\n",
      "$ member_casual      \u001b[3m\u001b[90m<chr>\u001b[39m\u001b[23m \"member\", \"member\", \"member\", \"member\", \"member\", \"…\n",
      "$ ride_length        \u001b[3m\u001b[90m<time>\u001b[39m\u001b[23m 00:09:32, 00:14:30, 00:14:07, 00:15:41, 00:18:26, …\n",
      "$ day_of_week        \u001b[3m\u001b[90m<dbl>\u001b[39m\u001b[23m 5, 6, 2, 6, 3, 6, 1, 3, 1, 3, 2, 1, 4, 3, 4, 5, 5, …\n"
     ]
    }
   ],
   "source": [
    "glimpse(nov_22)"
   ]
  },
  {
   "cell_type": "code",
   "execution_count": 18,
   "id": "3f073f33",
   "metadata": {
    "execution": {
     "iopub.execute_input": "2023-02-25T11:01:22.665030Z",
     "iopub.status.busy": "2023-02-25T11:01:22.661345Z",
     "iopub.status.idle": "2023-02-25T11:01:22.694882Z",
     "shell.execute_reply": "2023-02-25T11:01:22.692665Z"
    },
    "papermill": {
     "duration": 0.054013,
     "end_time": "2023-02-25T11:01:22.698124",
     "exception": false,
     "start_time": "2023-02-25T11:01:22.644111",
     "status": "completed"
    },
    "tags": []
   },
   "outputs": [
    {
     "name": "stdout",
     "output_type": "stream",
     "text": [
      "Rows: 181,806\n",
      "Columns: 15\n",
      "$ ride_id            \u001b[3m\u001b[90m<chr>\u001b[39m\u001b[23m \"65DBD2F447EC51C2\", \"0C201AA7EA0EA1AD\", \"E0B148CCB3…\n",
      "$ rideable_type      \u001b[3m\u001b[90m<chr>\u001b[39m\u001b[23m \"electric_bike\", \"classic_bike\", \"electric_bike\", \"…\n",
      "$ started_at         \u001b[3m\u001b[90m<chr>\u001b[39m\u001b[23m \"05-12-2022 10:47\", \"18-12-2022 06:42\", \"13-12-2022…\n",
      "$ ended_at           \u001b[3m\u001b[90m<chr>\u001b[39m\u001b[23m \"05-12-2022 10:56\", \"18-12-2022 07:08\", \"13-12-2022…\n",
      "$ start_station_name \u001b[3m\u001b[90m<chr>\u001b[39m\u001b[23m \"Clifton Ave & Armitage Ave\", \"Broadway & Belmont A…\n",
      "$ start_station_id   \u001b[3m\u001b[90m<chr>\u001b[39m\u001b[23m \"TA1307000163\", \"13277\", \"TA1306000015\", \"KA1503000…\n",
      "$ end_station_name   \u001b[3m\u001b[90m<chr>\u001b[39m\u001b[23m \"Sedgwick St & Webster Ave\", \"Sedgwick St & Webster…\n",
      "$ end_station_id     \u001b[3m\u001b[90m<chr>\u001b[39m\u001b[23m \"13191\", \"13191\", \"13016\", \"13134\", \"13288\", \"KA150…\n",
      "$ start_lat          \u001b[3m\u001b[90m<dbl>\u001b[39m\u001b[23m 41.91824, 41.94011, 41.88592, 41.83846, 41.89595, 4…\n",
      "$ start_lng          \u001b[3m\u001b[90m<dbl>\u001b[39m\u001b[23m -87.65711, -87.64545, -87.65113, -87.63541, -87.667…\n",
      "$ end_lat            \u001b[3m\u001b[90m<dbl>\u001b[39m\u001b[23m 41.92217, 41.92217, 41.89435, 41.88137, 41.92008, 4…\n",
      "$ end_lng            \u001b[3m\u001b[90m<dbl>\u001b[39m\u001b[23m -87.63889, -87.63889, -87.62280, -87.67493, -87.677…\n",
      "$ member_casual      \u001b[3m\u001b[90m<chr>\u001b[39m\u001b[23m \"member\", \"casual\", \"member\", \"member\", \"casual\", \"…\n",
      "$ ride_length        \u001b[3m\u001b[90m<time>\u001b[39m\u001b[23m 00:09:16, 00:26:11, 00:12:06, 00:29:01, 00:14:11, …\n",
      "$ day_of_week        \u001b[3m\u001b[90m<dbl>\u001b[39m\u001b[23m 2, 1, 3, 3, 4, 6, 3, 3, 3, 4, 2, 3, 5, 5, 7, 5, 4, …\n"
     ]
    }
   ],
   "source": [
    "glimpse(dec_22)"
   ]
  },
  {
   "cell_type": "code",
   "execution_count": 19,
   "id": "f11ef04e",
   "metadata": {
    "execution": {
     "iopub.execute_input": "2023-02-25T11:01:22.729874Z",
     "iopub.status.busy": "2023-02-25T11:01:22.727991Z",
     "iopub.status.idle": "2023-02-25T11:01:22.758724Z",
     "shell.execute_reply": "2023-02-25T11:01:22.756332Z"
    },
    "papermill": {
     "duration": 0.049667,
     "end_time": "2023-02-25T11:01:22.761798",
     "exception": false,
     "start_time": "2023-02-25T11:01:22.712131",
     "status": "completed"
    },
    "tags": []
   },
   "outputs": [
    {
     "name": "stdout",
     "output_type": "stream",
     "text": [
      "Rows: 190,301\n",
      "Columns: 15\n",
      "$ ride_id            \u001b[3m\u001b[90m<chr>\u001b[39m\u001b[23m \"F96D5A74A3E41399\", \"13CB7EB698CEDB88\", \"BD88A2E670…\n",
      "$ rideable_type      \u001b[3m\u001b[90m<chr>\u001b[39m\u001b[23m \"electric_bike\", \"classic_bike\", \"electric_bike\", \"…\n",
      "$ started_at         \u001b[3m\u001b[90m<chr>\u001b[39m\u001b[23m \"21-01-2023 20:05\", \"10-01-2023 15:37\", \"02-01-2023…\n",
      "$ ended_at           \u001b[3m\u001b[90m<chr>\u001b[39m\u001b[23m \"21-01-2023 20:16\", \"10-01-2023 15:46\", \"02-01-2023…\n",
      "$ start_station_name \u001b[3m\u001b[90m<chr>\u001b[39m\u001b[23m \"Lincoln Ave & Fullerton Ave\", \"Kimbark Ave & 53rd …\n",
      "$ start_station_id   \u001b[3m\u001b[90m<chr>\u001b[39m\u001b[23m \"TA1309000058\", \"TA1309000037\", \"RP-005\", \"TA130900…\n",
      "$ end_station_name   \u001b[3m\u001b[90m<chr>\u001b[39m\u001b[23m \"Hampden Ct & Diversey Ave\", \"Greenwood Ave & 47th …\n",
      "$ end_station_id     \u001b[3m\u001b[90m<chr>\u001b[39m\u001b[23m \"202480\", \"TA1308000002\", \"599\", \"TA1308000002\", \"T…\n",
      "$ start_lat          \u001b[3m\u001b[90m<dbl>\u001b[39m\u001b[23m 41.92407, 41.79957, 42.00857, 41.79957, 41.79957, 4…\n",
      "$ start_lng          \u001b[3m\u001b[90m<dbl>\u001b[39m\u001b[23m -87.64628, -87.59475, -87.69048, -87.59475, -87.594…\n",
      "$ end_lat            \u001b[3m\u001b[90m<dbl>\u001b[39m\u001b[23m 41.93000, 41.80983, 42.03974, 41.80983, 41.80983, 4…\n",
      "$ end_lng            \u001b[3m\u001b[90m<dbl>\u001b[39m\u001b[23m -87.64000, -87.59938, -87.69941, -87.59938, -87.599…\n",
      "$ member_casual      \u001b[3m\u001b[90m<chr>\u001b[39m\u001b[23m \"member\", \"member\", \"casual\", \"member\", \"member\", \"…\n",
      "$ ride_length        \u001b[3m\u001b[90m<time>\u001b[39m\u001b[23m 00:10:51, 00:08:29, 00:13:14, 00:08:46, 00:15:19, …\n",
      "$ day_of_week        \u001b[3m\u001b[90m<dbl>\u001b[39m\u001b[23m 7, 3, 2, 1, 5, 3, 1, 4, 4, 6, 5, 3, 2, 3, 5, 2, 7, …\n"
     ]
    }
   ],
   "source": [
    "glimpse(jan_23)"
   ]
  },
  {
   "cell_type": "markdown",
   "id": "bed7e0f0",
   "metadata": {
    "papermill": {
     "duration": 0.014185,
     "end_time": "2023-02-25T11:01:22.790301",
     "exception": false,
     "start_time": "2023-02-25T11:01:22.776116",
     "status": "completed"
    },
    "tags": []
   },
   "source": [
    "Studying the structure of tibbles shows the consistency among the datatype of columns. Next, we will take a clook at the column names at each tibble before combining them. "
   ]
  },
  {
   "cell_type": "code",
   "execution_count": 20,
   "id": "1923825d",
   "metadata": {
    "execution": {
     "iopub.execute_input": "2023-02-25T11:01:22.822494Z",
     "iopub.status.busy": "2023-02-25T11:01:22.820700Z",
     "iopub.status.idle": "2023-02-25T11:01:22.916191Z",
     "shell.execute_reply": "2023-02-25T11:01:22.914285Z"
    },
    "papermill": {
     "duration": 0.114252,
     "end_time": "2023-02-25T11:01:22.918728",
     "exception": false,
     "start_time": "2023-02-25T11:01:22.804476",
     "status": "completed"
    },
    "tags": []
   },
   "outputs": [
    {
     "data": {
      "text/html": [
       "<style>\n",
       ".list-inline {list-style: none; margin:0; padding: 0}\n",
       ".list-inline>li {display: inline-block}\n",
       ".list-inline>li:not(:last-child)::after {content: \"\\00b7\"; padding: 0 .5ex}\n",
       "</style>\n",
       "<ol class=list-inline><li>'ride_id'</li><li>'rideable_type'</li><li>'started_at'</li><li>'ended_at'</li><li>'start_station_name'</li><li>'start_station_id'</li><li>'end_station_name'</li><li>'end_station_id'</li><li>'start_lat'</li><li>'start_lng'</li><li>'end_lat'</li><li>'end_lng'</li><li>'member_casual'</li><li>'ride_length'</li><li>'day_of_week'</li></ol>\n"
      ],
      "text/latex": [
       "\\begin{enumerate*}\n",
       "\\item 'ride\\_id'\n",
       "\\item 'rideable\\_type'\n",
       "\\item 'started\\_at'\n",
       "\\item 'ended\\_at'\n",
       "\\item 'start\\_station\\_name'\n",
       "\\item 'start\\_station\\_id'\n",
       "\\item 'end\\_station\\_name'\n",
       "\\item 'end\\_station\\_id'\n",
       "\\item 'start\\_lat'\n",
       "\\item 'start\\_lng'\n",
       "\\item 'end\\_lat'\n",
       "\\item 'end\\_lng'\n",
       "\\item 'member\\_casual'\n",
       "\\item 'ride\\_length'\n",
       "\\item 'day\\_of\\_week'\n",
       "\\end{enumerate*}\n"
      ],
      "text/markdown": [
       "1. 'ride_id'\n",
       "2. 'rideable_type'\n",
       "3. 'started_at'\n",
       "4. 'ended_at'\n",
       "5. 'start_station_name'\n",
       "6. 'start_station_id'\n",
       "7. 'end_station_name'\n",
       "8. 'end_station_id'\n",
       "9. 'start_lat'\n",
       "10. 'start_lng'\n",
       "11. 'end_lat'\n",
       "12. 'end_lng'\n",
       "13. 'member_casual'\n",
       "14. 'ride_length'\n",
       "15. 'day_of_week'\n",
       "\n",
       "\n"
      ],
      "text/plain": [
       " [1] \"ride_id\"            \"rideable_type\"      \"started_at\"        \n",
       " [4] \"ended_at\"           \"start_station_name\" \"start_station_id\"  \n",
       " [7] \"end_station_name\"   \"end_station_id\"     \"start_lat\"         \n",
       "[10] \"start_lng\"          \"end_lat\"            \"end_lng\"           \n",
       "[13] \"member_casual\"      \"ride_length\"        \"day_of_week\"       "
      ]
     },
     "metadata": {},
     "output_type": "display_data"
    },
    {
     "data": {
      "text/html": [
       "<style>\n",
       ".list-inline {list-style: none; margin:0; padding: 0}\n",
       ".list-inline>li {display: inline-block}\n",
       ".list-inline>li:not(:last-child)::after {content: \"\\00b7\"; padding: 0 .5ex}\n",
       "</style>\n",
       "<ol class=list-inline><li>'ride_id'</li><li>'rideable_type'</li><li>'started_at'</li><li>'ended_at'</li><li>'start_station_name'</li><li>'start_station_id'</li><li>'end_station_name'</li><li>'end_station_id'</li><li>'start_lat'</li><li>'start_lng'</li><li>'end_lat'</li><li>'end_lng'</li><li>'member_casual'</li><li>'ride_length'</li><li>'day_of_week'</li></ol>\n"
      ],
      "text/latex": [
       "\\begin{enumerate*}\n",
       "\\item 'ride\\_id'\n",
       "\\item 'rideable\\_type'\n",
       "\\item 'started\\_at'\n",
       "\\item 'ended\\_at'\n",
       "\\item 'start\\_station\\_name'\n",
       "\\item 'start\\_station\\_id'\n",
       "\\item 'end\\_station\\_name'\n",
       "\\item 'end\\_station\\_id'\n",
       "\\item 'start\\_lat'\n",
       "\\item 'start\\_lng'\n",
       "\\item 'end\\_lat'\n",
       "\\item 'end\\_lng'\n",
       "\\item 'member\\_casual'\n",
       "\\item 'ride\\_length'\n",
       "\\item 'day\\_of\\_week'\n",
       "\\end{enumerate*}\n"
      ],
      "text/markdown": [
       "1. 'ride_id'\n",
       "2. 'rideable_type'\n",
       "3. 'started_at'\n",
       "4. 'ended_at'\n",
       "5. 'start_station_name'\n",
       "6. 'start_station_id'\n",
       "7. 'end_station_name'\n",
       "8. 'end_station_id'\n",
       "9. 'start_lat'\n",
       "10. 'start_lng'\n",
       "11. 'end_lat'\n",
       "12. 'end_lng'\n",
       "13. 'member_casual'\n",
       "14. 'ride_length'\n",
       "15. 'day_of_week'\n",
       "\n",
       "\n"
      ],
      "text/plain": [
       " [1] \"ride_id\"            \"rideable_type\"      \"started_at\"        \n",
       " [4] \"ended_at\"           \"start_station_name\" \"start_station_id\"  \n",
       " [7] \"end_station_name\"   \"end_station_id\"     \"start_lat\"         \n",
       "[10] \"start_lng\"          \"end_lat\"            \"end_lng\"           \n",
       "[13] \"member_casual\"      \"ride_length\"        \"day_of_week\"       "
      ]
     },
     "metadata": {},
     "output_type": "display_data"
    },
    {
     "data": {
      "text/html": [
       "<style>\n",
       ".list-inline {list-style: none; margin:0; padding: 0}\n",
       ".list-inline>li {display: inline-block}\n",
       ".list-inline>li:not(:last-child)::after {content: \"\\00b7\"; padding: 0 .5ex}\n",
       "</style>\n",
       "<ol class=list-inline><li>'ride_id'</li><li>'rideable_type'</li><li>'started_at'</li><li>'ended_at'</li><li>'start_station_name'</li><li>'start_station_id'</li><li>'end_station_name'</li><li>'end_station_id'</li><li>'start_lat'</li><li>'start_lng'</li><li>'end_lat'</li><li>'end_lng'</li><li>'member_casual'</li><li>'ride_length'</li><li>'day_of_week'</li></ol>\n"
      ],
      "text/latex": [
       "\\begin{enumerate*}\n",
       "\\item 'ride\\_id'\n",
       "\\item 'rideable\\_type'\n",
       "\\item 'started\\_at'\n",
       "\\item 'ended\\_at'\n",
       "\\item 'start\\_station\\_name'\n",
       "\\item 'start\\_station\\_id'\n",
       "\\item 'end\\_station\\_name'\n",
       "\\item 'end\\_station\\_id'\n",
       "\\item 'start\\_lat'\n",
       "\\item 'start\\_lng'\n",
       "\\item 'end\\_lat'\n",
       "\\item 'end\\_lng'\n",
       "\\item 'member\\_casual'\n",
       "\\item 'ride\\_length'\n",
       "\\item 'day\\_of\\_week'\n",
       "\\end{enumerate*}\n"
      ],
      "text/markdown": [
       "1. 'ride_id'\n",
       "2. 'rideable_type'\n",
       "3. 'started_at'\n",
       "4. 'ended_at'\n",
       "5. 'start_station_name'\n",
       "6. 'start_station_id'\n",
       "7. 'end_station_name'\n",
       "8. 'end_station_id'\n",
       "9. 'start_lat'\n",
       "10. 'start_lng'\n",
       "11. 'end_lat'\n",
       "12. 'end_lng'\n",
       "13. 'member_casual'\n",
       "14. 'ride_length'\n",
       "15. 'day_of_week'\n",
       "\n",
       "\n"
      ],
      "text/plain": [
       " [1] \"ride_id\"            \"rideable_type\"      \"started_at\"        \n",
       " [4] \"ended_at\"           \"start_station_name\" \"start_station_id\"  \n",
       " [7] \"end_station_name\"   \"end_station_id\"     \"start_lat\"         \n",
       "[10] \"start_lng\"          \"end_lat\"            \"end_lng\"           \n",
       "[13] \"member_casual\"      \"ride_length\"        \"day_of_week\"       "
      ]
     },
     "metadata": {},
     "output_type": "display_data"
    },
    {
     "data": {
      "text/html": [
       "<style>\n",
       ".list-inline {list-style: none; margin:0; padding: 0}\n",
       ".list-inline>li {display: inline-block}\n",
       ".list-inline>li:not(:last-child)::after {content: \"\\00b7\"; padding: 0 .5ex}\n",
       "</style>\n",
       "<ol class=list-inline><li>'ride_id'</li><li>'rideable_type'</li><li>'started_at'</li><li>'ended_at'</li><li>'start_station_name'</li><li>'start_station_id'</li><li>'end_station_name'</li><li>'end_station_id'</li><li>'start_lat'</li><li>'start_lng'</li><li>'end_lat'</li><li>'end_lng'</li><li>'member_casual'</li><li>'ride_length'</li><li>'day_of_week'</li></ol>\n"
      ],
      "text/latex": [
       "\\begin{enumerate*}\n",
       "\\item 'ride\\_id'\n",
       "\\item 'rideable\\_type'\n",
       "\\item 'started\\_at'\n",
       "\\item 'ended\\_at'\n",
       "\\item 'start\\_station\\_name'\n",
       "\\item 'start\\_station\\_id'\n",
       "\\item 'end\\_station\\_name'\n",
       "\\item 'end\\_station\\_id'\n",
       "\\item 'start\\_lat'\n",
       "\\item 'start\\_lng'\n",
       "\\item 'end\\_lat'\n",
       "\\item 'end\\_lng'\n",
       "\\item 'member\\_casual'\n",
       "\\item 'ride\\_length'\n",
       "\\item 'day\\_of\\_week'\n",
       "\\end{enumerate*}\n"
      ],
      "text/markdown": [
       "1. 'ride_id'\n",
       "2. 'rideable_type'\n",
       "3. 'started_at'\n",
       "4. 'ended_at'\n",
       "5. 'start_station_name'\n",
       "6. 'start_station_id'\n",
       "7. 'end_station_name'\n",
       "8. 'end_station_id'\n",
       "9. 'start_lat'\n",
       "10. 'start_lng'\n",
       "11. 'end_lat'\n",
       "12. 'end_lng'\n",
       "13. 'member_casual'\n",
       "14. 'ride_length'\n",
       "15. 'day_of_week'\n",
       "\n",
       "\n"
      ],
      "text/plain": [
       " [1] \"ride_id\"            \"rideable_type\"      \"started_at\"        \n",
       " [4] \"ended_at\"           \"start_station_name\" \"start_station_id\"  \n",
       " [7] \"end_station_name\"   \"end_station_id\"     \"start_lat\"         \n",
       "[10] \"start_lng\"          \"end_lat\"            \"end_lng\"           \n",
       "[13] \"member_casual\"      \"ride_length\"        \"day_of_week\"       "
      ]
     },
     "metadata": {},
     "output_type": "display_data"
    },
    {
     "data": {
      "text/html": [
       "<style>\n",
       ".list-inline {list-style: none; margin:0; padding: 0}\n",
       ".list-inline>li {display: inline-block}\n",
       ".list-inline>li:not(:last-child)::after {content: \"\\00b7\"; padding: 0 .5ex}\n",
       "</style>\n",
       "<ol class=list-inline><li>'ride_id'</li><li>'rideable_type'</li><li>'started_at'</li><li>'ended_at'</li><li>'start_station_name'</li><li>'start_station_id'</li><li>'end_station_name'</li><li>'end_station_id'</li><li>'start_lat'</li><li>'start_lng'</li><li>'end_lat'</li><li>'end_lng'</li><li>'member_casual'</li><li>'ride_length'</li><li>'day_of_week'</li></ol>\n"
      ],
      "text/latex": [
       "\\begin{enumerate*}\n",
       "\\item 'ride\\_id'\n",
       "\\item 'rideable\\_type'\n",
       "\\item 'started\\_at'\n",
       "\\item 'ended\\_at'\n",
       "\\item 'start\\_station\\_name'\n",
       "\\item 'start\\_station\\_id'\n",
       "\\item 'end\\_station\\_name'\n",
       "\\item 'end\\_station\\_id'\n",
       "\\item 'start\\_lat'\n",
       "\\item 'start\\_lng'\n",
       "\\item 'end\\_lat'\n",
       "\\item 'end\\_lng'\n",
       "\\item 'member\\_casual'\n",
       "\\item 'ride\\_length'\n",
       "\\item 'day\\_of\\_week'\n",
       "\\end{enumerate*}\n"
      ],
      "text/markdown": [
       "1. 'ride_id'\n",
       "2. 'rideable_type'\n",
       "3. 'started_at'\n",
       "4. 'ended_at'\n",
       "5. 'start_station_name'\n",
       "6. 'start_station_id'\n",
       "7. 'end_station_name'\n",
       "8. 'end_station_id'\n",
       "9. 'start_lat'\n",
       "10. 'start_lng'\n",
       "11. 'end_lat'\n",
       "12. 'end_lng'\n",
       "13. 'member_casual'\n",
       "14. 'ride_length'\n",
       "15. 'day_of_week'\n",
       "\n",
       "\n"
      ],
      "text/plain": [
       " [1] \"ride_id\"            \"rideable_type\"      \"started_at\"        \n",
       " [4] \"ended_at\"           \"start_station_name\" \"start_station_id\"  \n",
       " [7] \"end_station_name\"   \"end_station_id\"     \"start_lat\"         \n",
       "[10] \"start_lng\"          \"end_lat\"            \"end_lng\"           \n",
       "[13] \"member_casual\"      \"ride_length\"        \"day_of_week\"       "
      ]
     },
     "metadata": {},
     "output_type": "display_data"
    },
    {
     "data": {
      "text/html": [
       "<style>\n",
       ".list-inline {list-style: none; margin:0; padding: 0}\n",
       ".list-inline>li {display: inline-block}\n",
       ".list-inline>li:not(:last-child)::after {content: \"\\00b7\"; padding: 0 .5ex}\n",
       "</style>\n",
       "<ol class=list-inline><li>'ride_id'</li><li>'rideable_type'</li><li>'started_at'</li><li>'ended_at'</li><li>'start_station_name'</li><li>'start_station_id'</li><li>'end_station_name'</li><li>'end_station_id'</li><li>'start_lat'</li><li>'start_lng'</li><li>'end_lat'</li><li>'end_lng'</li><li>'member_casual'</li><li>'ride_length'</li><li>'day_of_week'</li></ol>\n"
      ],
      "text/latex": [
       "\\begin{enumerate*}\n",
       "\\item 'ride\\_id'\n",
       "\\item 'rideable\\_type'\n",
       "\\item 'started\\_at'\n",
       "\\item 'ended\\_at'\n",
       "\\item 'start\\_station\\_name'\n",
       "\\item 'start\\_station\\_id'\n",
       "\\item 'end\\_station\\_name'\n",
       "\\item 'end\\_station\\_id'\n",
       "\\item 'start\\_lat'\n",
       "\\item 'start\\_lng'\n",
       "\\item 'end\\_lat'\n",
       "\\item 'end\\_lng'\n",
       "\\item 'member\\_casual'\n",
       "\\item 'ride\\_length'\n",
       "\\item 'day\\_of\\_week'\n",
       "\\end{enumerate*}\n"
      ],
      "text/markdown": [
       "1. 'ride_id'\n",
       "2. 'rideable_type'\n",
       "3. 'started_at'\n",
       "4. 'ended_at'\n",
       "5. 'start_station_name'\n",
       "6. 'start_station_id'\n",
       "7. 'end_station_name'\n",
       "8. 'end_station_id'\n",
       "9. 'start_lat'\n",
       "10. 'start_lng'\n",
       "11. 'end_lat'\n",
       "12. 'end_lng'\n",
       "13. 'member_casual'\n",
       "14. 'ride_length'\n",
       "15. 'day_of_week'\n",
       "\n",
       "\n"
      ],
      "text/plain": [
       " [1] \"ride_id\"            \"rideable_type\"      \"started_at\"        \n",
       " [4] \"ended_at\"           \"start_station_name\" \"start_station_id\"  \n",
       " [7] \"end_station_name\"   \"end_station_id\"     \"start_lat\"         \n",
       "[10] \"start_lng\"          \"end_lat\"            \"end_lng\"           \n",
       "[13] \"member_casual\"      \"ride_length\"        \"day_of_week\"       "
      ]
     },
     "metadata": {},
     "output_type": "display_data"
    },
    {
     "data": {
      "text/html": [
       "<style>\n",
       ".list-inline {list-style: none; margin:0; padding: 0}\n",
       ".list-inline>li {display: inline-block}\n",
       ".list-inline>li:not(:last-child)::after {content: \"\\00b7\"; padding: 0 .5ex}\n",
       "</style>\n",
       "<ol class=list-inline><li>'ride_id'</li><li>'rideable_type'</li><li>'started_at'</li><li>'ended_at'</li><li>'start_station_name'</li><li>'start_station_id'</li><li>'end_station_name'</li><li>'end_station_id'</li><li>'start_lat'</li><li>'start_lng'</li><li>'end_lat'</li><li>'end_lng'</li><li>'member_casual'</li><li>'ride_length'</li><li>'day_of_week'</li></ol>\n"
      ],
      "text/latex": [
       "\\begin{enumerate*}\n",
       "\\item 'ride\\_id'\n",
       "\\item 'rideable\\_type'\n",
       "\\item 'started\\_at'\n",
       "\\item 'ended\\_at'\n",
       "\\item 'start\\_station\\_name'\n",
       "\\item 'start\\_station\\_id'\n",
       "\\item 'end\\_station\\_name'\n",
       "\\item 'end\\_station\\_id'\n",
       "\\item 'start\\_lat'\n",
       "\\item 'start\\_lng'\n",
       "\\item 'end\\_lat'\n",
       "\\item 'end\\_lng'\n",
       "\\item 'member\\_casual'\n",
       "\\item 'ride\\_length'\n",
       "\\item 'day\\_of\\_week'\n",
       "\\end{enumerate*}\n"
      ],
      "text/markdown": [
       "1. 'ride_id'\n",
       "2. 'rideable_type'\n",
       "3. 'started_at'\n",
       "4. 'ended_at'\n",
       "5. 'start_station_name'\n",
       "6. 'start_station_id'\n",
       "7. 'end_station_name'\n",
       "8. 'end_station_id'\n",
       "9. 'start_lat'\n",
       "10. 'start_lng'\n",
       "11. 'end_lat'\n",
       "12. 'end_lng'\n",
       "13. 'member_casual'\n",
       "14. 'ride_length'\n",
       "15. 'day_of_week'\n",
       "\n",
       "\n"
      ],
      "text/plain": [
       " [1] \"ride_id\"            \"rideable_type\"      \"started_at\"        \n",
       " [4] \"ended_at\"           \"start_station_name\" \"start_station_id\"  \n",
       " [7] \"end_station_name\"   \"end_station_id\"     \"start_lat\"         \n",
       "[10] \"start_lng\"          \"end_lat\"            \"end_lng\"           \n",
       "[13] \"member_casual\"      \"ride_length\"        \"day_of_week\"       "
      ]
     },
     "metadata": {},
     "output_type": "display_data"
    },
    {
     "data": {
      "text/html": [
       "<style>\n",
       ".list-inline {list-style: none; margin:0; padding: 0}\n",
       ".list-inline>li {display: inline-block}\n",
       ".list-inline>li:not(:last-child)::after {content: \"\\00b7\"; padding: 0 .5ex}\n",
       "</style>\n",
       "<ol class=list-inline><li>'ride_id'</li><li>'rideable_type'</li><li>'started_at'</li><li>'ended_at'</li><li>'start_station_name'</li><li>'start_station_id'</li><li>'end_station_name'</li><li>'end_station_id'</li><li>'start_lat'</li><li>'start_lng'</li><li>'end_lat'</li><li>'end_lng'</li><li>'member_casual'</li><li>'ride_length'</li><li>'day_of_week'</li></ol>\n"
      ],
      "text/latex": [
       "\\begin{enumerate*}\n",
       "\\item 'ride\\_id'\n",
       "\\item 'rideable\\_type'\n",
       "\\item 'started\\_at'\n",
       "\\item 'ended\\_at'\n",
       "\\item 'start\\_station\\_name'\n",
       "\\item 'start\\_station\\_id'\n",
       "\\item 'end\\_station\\_name'\n",
       "\\item 'end\\_station\\_id'\n",
       "\\item 'start\\_lat'\n",
       "\\item 'start\\_lng'\n",
       "\\item 'end\\_lat'\n",
       "\\item 'end\\_lng'\n",
       "\\item 'member\\_casual'\n",
       "\\item 'ride\\_length'\n",
       "\\item 'day\\_of\\_week'\n",
       "\\end{enumerate*}\n"
      ],
      "text/markdown": [
       "1. 'ride_id'\n",
       "2. 'rideable_type'\n",
       "3. 'started_at'\n",
       "4. 'ended_at'\n",
       "5. 'start_station_name'\n",
       "6. 'start_station_id'\n",
       "7. 'end_station_name'\n",
       "8. 'end_station_id'\n",
       "9. 'start_lat'\n",
       "10. 'start_lng'\n",
       "11. 'end_lat'\n",
       "12. 'end_lng'\n",
       "13. 'member_casual'\n",
       "14. 'ride_length'\n",
       "15. 'day_of_week'\n",
       "\n",
       "\n"
      ],
      "text/plain": [
       " [1] \"ride_id\"            \"rideable_type\"      \"started_at\"        \n",
       " [4] \"ended_at\"           \"start_station_name\" \"start_station_id\"  \n",
       " [7] \"end_station_name\"   \"end_station_id\"     \"start_lat\"         \n",
       "[10] \"start_lng\"          \"end_lat\"            \"end_lng\"           \n",
       "[13] \"member_casual\"      \"ride_length\"        \"day_of_week\"       "
      ]
     },
     "metadata": {},
     "output_type": "display_data"
    },
    {
     "data": {
      "text/html": [
       "<style>\n",
       ".list-inline {list-style: none; margin:0; padding: 0}\n",
       ".list-inline>li {display: inline-block}\n",
       ".list-inline>li:not(:last-child)::after {content: \"\\00b7\"; padding: 0 .5ex}\n",
       "</style>\n",
       "<ol class=list-inline><li>'ride_id'</li><li>'rideable_type'</li><li>'started_at'</li><li>'ended_at'</li><li>'start_station_name'</li><li>'start_station_id'</li><li>'end_station_name'</li><li>'end_station_id'</li><li>'start_lat'</li><li>'start_lng'</li><li>'end_lat'</li><li>'end_lng'</li><li>'member_casual'</li><li>'ride_length'</li><li>'day_of_week'</li></ol>\n"
      ],
      "text/latex": [
       "\\begin{enumerate*}\n",
       "\\item 'ride\\_id'\n",
       "\\item 'rideable\\_type'\n",
       "\\item 'started\\_at'\n",
       "\\item 'ended\\_at'\n",
       "\\item 'start\\_station\\_name'\n",
       "\\item 'start\\_station\\_id'\n",
       "\\item 'end\\_station\\_name'\n",
       "\\item 'end\\_station\\_id'\n",
       "\\item 'start\\_lat'\n",
       "\\item 'start\\_lng'\n",
       "\\item 'end\\_lat'\n",
       "\\item 'end\\_lng'\n",
       "\\item 'member\\_casual'\n",
       "\\item 'ride\\_length'\n",
       "\\item 'day\\_of\\_week'\n",
       "\\end{enumerate*}\n"
      ],
      "text/markdown": [
       "1. 'ride_id'\n",
       "2. 'rideable_type'\n",
       "3. 'started_at'\n",
       "4. 'ended_at'\n",
       "5. 'start_station_name'\n",
       "6. 'start_station_id'\n",
       "7. 'end_station_name'\n",
       "8. 'end_station_id'\n",
       "9. 'start_lat'\n",
       "10. 'start_lng'\n",
       "11. 'end_lat'\n",
       "12. 'end_lng'\n",
       "13. 'member_casual'\n",
       "14. 'ride_length'\n",
       "15. 'day_of_week'\n",
       "\n",
       "\n"
      ],
      "text/plain": [
       " [1] \"ride_id\"            \"rideable_type\"      \"started_at\"        \n",
       " [4] \"ended_at\"           \"start_station_name\" \"start_station_id\"  \n",
       " [7] \"end_station_name\"   \"end_station_id\"     \"start_lat\"         \n",
       "[10] \"start_lng\"          \"end_lat\"            \"end_lng\"           \n",
       "[13] \"member_casual\"      \"ride_length\"        \"day_of_week\"       "
      ]
     },
     "metadata": {},
     "output_type": "display_data"
    },
    {
     "data": {
      "text/html": [
       "<style>\n",
       ".list-inline {list-style: none; margin:0; padding: 0}\n",
       ".list-inline>li {display: inline-block}\n",
       ".list-inline>li:not(:last-child)::after {content: \"\\00b7\"; padding: 0 .5ex}\n",
       "</style>\n",
       "<ol class=list-inline><li>'ride_id'</li><li>'rideable_type'</li><li>'started_at'</li><li>'ended_at'</li><li>'start_station_name'</li><li>'start_station_id'</li><li>'end_station_name'</li><li>'end_station_id'</li><li>'start_lat'</li><li>'start_lng'</li><li>'end_lat'</li><li>'end_lng'</li><li>'member_casual'</li><li>'ride_length'</li><li>'day_of_week'</li></ol>\n"
      ],
      "text/latex": [
       "\\begin{enumerate*}\n",
       "\\item 'ride\\_id'\n",
       "\\item 'rideable\\_type'\n",
       "\\item 'started\\_at'\n",
       "\\item 'ended\\_at'\n",
       "\\item 'start\\_station\\_name'\n",
       "\\item 'start\\_station\\_id'\n",
       "\\item 'end\\_station\\_name'\n",
       "\\item 'end\\_station\\_id'\n",
       "\\item 'start\\_lat'\n",
       "\\item 'start\\_lng'\n",
       "\\item 'end\\_lat'\n",
       "\\item 'end\\_lng'\n",
       "\\item 'member\\_casual'\n",
       "\\item 'ride\\_length'\n",
       "\\item 'day\\_of\\_week'\n",
       "\\end{enumerate*}\n"
      ],
      "text/markdown": [
       "1. 'ride_id'\n",
       "2. 'rideable_type'\n",
       "3. 'started_at'\n",
       "4. 'ended_at'\n",
       "5. 'start_station_name'\n",
       "6. 'start_station_id'\n",
       "7. 'end_station_name'\n",
       "8. 'end_station_id'\n",
       "9. 'start_lat'\n",
       "10. 'start_lng'\n",
       "11. 'end_lat'\n",
       "12. 'end_lng'\n",
       "13. 'member_casual'\n",
       "14. 'ride_length'\n",
       "15. 'day_of_week'\n",
       "\n",
       "\n"
      ],
      "text/plain": [
       " [1] \"ride_id\"            \"rideable_type\"      \"started_at\"        \n",
       " [4] \"ended_at\"           \"start_station_name\" \"start_station_id\"  \n",
       " [7] \"end_station_name\"   \"end_station_id\"     \"start_lat\"         \n",
       "[10] \"start_lng\"          \"end_lat\"            \"end_lng\"           \n",
       "[13] \"member_casual\"      \"ride_length\"        \"day_of_week\"       "
      ]
     },
     "metadata": {},
     "output_type": "display_data"
    },
    {
     "data": {
      "text/html": [
       "<style>\n",
       ".list-inline {list-style: none; margin:0; padding: 0}\n",
       ".list-inline>li {display: inline-block}\n",
       ".list-inline>li:not(:last-child)::after {content: \"\\00b7\"; padding: 0 .5ex}\n",
       "</style>\n",
       "<ol class=list-inline><li>'ride_id'</li><li>'rideable_type'</li><li>'started_at'</li><li>'ended_at'</li><li>'start_station_name'</li><li>'start_station_id'</li><li>'end_station_name'</li><li>'end_station_id'</li><li>'start_lat'</li><li>'start_lng'</li><li>'end_lat'</li><li>'end_lng'</li><li>'member_casual'</li><li>'ride_length'</li><li>'day_of_week'</li></ol>\n"
      ],
      "text/latex": [
       "\\begin{enumerate*}\n",
       "\\item 'ride\\_id'\n",
       "\\item 'rideable\\_type'\n",
       "\\item 'started\\_at'\n",
       "\\item 'ended\\_at'\n",
       "\\item 'start\\_station\\_name'\n",
       "\\item 'start\\_station\\_id'\n",
       "\\item 'end\\_station\\_name'\n",
       "\\item 'end\\_station\\_id'\n",
       "\\item 'start\\_lat'\n",
       "\\item 'start\\_lng'\n",
       "\\item 'end\\_lat'\n",
       "\\item 'end\\_lng'\n",
       "\\item 'member\\_casual'\n",
       "\\item 'ride\\_length'\n",
       "\\item 'day\\_of\\_week'\n",
       "\\end{enumerate*}\n"
      ],
      "text/markdown": [
       "1. 'ride_id'\n",
       "2. 'rideable_type'\n",
       "3. 'started_at'\n",
       "4. 'ended_at'\n",
       "5. 'start_station_name'\n",
       "6. 'start_station_id'\n",
       "7. 'end_station_name'\n",
       "8. 'end_station_id'\n",
       "9. 'start_lat'\n",
       "10. 'start_lng'\n",
       "11. 'end_lat'\n",
       "12. 'end_lng'\n",
       "13. 'member_casual'\n",
       "14. 'ride_length'\n",
       "15. 'day_of_week'\n",
       "\n",
       "\n"
      ],
      "text/plain": [
       " [1] \"ride_id\"            \"rideable_type\"      \"started_at\"        \n",
       " [4] \"ended_at\"           \"start_station_name\" \"start_station_id\"  \n",
       " [7] \"end_station_name\"   \"end_station_id\"     \"start_lat\"         \n",
       "[10] \"start_lng\"          \"end_lat\"            \"end_lng\"           \n",
       "[13] \"member_casual\"      \"ride_length\"        \"day_of_week\"       "
      ]
     },
     "metadata": {},
     "output_type": "display_data"
    },
    {
     "data": {
      "text/html": [
       "<style>\n",
       ".list-inline {list-style: none; margin:0; padding: 0}\n",
       ".list-inline>li {display: inline-block}\n",
       ".list-inline>li:not(:last-child)::after {content: \"\\00b7\"; padding: 0 .5ex}\n",
       "</style>\n",
       "<ol class=list-inline><li>'ride_id'</li><li>'rideable_type'</li><li>'started_at'</li><li>'ended_at'</li><li>'start_station_name'</li><li>'start_station_id'</li><li>'end_station_name'</li><li>'end_station_id'</li><li>'start_lat'</li><li>'start_lng'</li><li>'end_lat'</li><li>'end_lng'</li><li>'member_casual'</li><li>'ride_length'</li><li>'day_of_week'</li></ol>\n"
      ],
      "text/latex": [
       "\\begin{enumerate*}\n",
       "\\item 'ride\\_id'\n",
       "\\item 'rideable\\_type'\n",
       "\\item 'started\\_at'\n",
       "\\item 'ended\\_at'\n",
       "\\item 'start\\_station\\_name'\n",
       "\\item 'start\\_station\\_id'\n",
       "\\item 'end\\_station\\_name'\n",
       "\\item 'end\\_station\\_id'\n",
       "\\item 'start\\_lat'\n",
       "\\item 'start\\_lng'\n",
       "\\item 'end\\_lat'\n",
       "\\item 'end\\_lng'\n",
       "\\item 'member\\_casual'\n",
       "\\item 'ride\\_length'\n",
       "\\item 'day\\_of\\_week'\n",
       "\\end{enumerate*}\n"
      ],
      "text/markdown": [
       "1. 'ride_id'\n",
       "2. 'rideable_type'\n",
       "3. 'started_at'\n",
       "4. 'ended_at'\n",
       "5. 'start_station_name'\n",
       "6. 'start_station_id'\n",
       "7. 'end_station_name'\n",
       "8. 'end_station_id'\n",
       "9. 'start_lat'\n",
       "10. 'start_lng'\n",
       "11. 'end_lat'\n",
       "12. 'end_lng'\n",
       "13. 'member_casual'\n",
       "14. 'ride_length'\n",
       "15. 'day_of_week'\n",
       "\n",
       "\n"
      ],
      "text/plain": [
       " [1] \"ride_id\"            \"rideable_type\"      \"started_at\"        \n",
       " [4] \"ended_at\"           \"start_station_name\" \"start_station_id\"  \n",
       " [7] \"end_station_name\"   \"end_station_id\"     \"start_lat\"         \n",
       "[10] \"start_lng\"          \"end_lat\"            \"end_lng\"           \n",
       "[13] \"member_casual\"      \"ride_length\"        \"day_of_week\"       "
      ]
     },
     "metadata": {},
     "output_type": "display_data"
    },
    {
     "data": {
      "text/html": [
       "<style>\n",
       ".list-inline {list-style: none; margin:0; padding: 0}\n",
       ".list-inline>li {display: inline-block}\n",
       ".list-inline>li:not(:last-child)::after {content: \"\\00b7\"; padding: 0 .5ex}\n",
       "</style>\n",
       "<ol class=list-inline><li>'ride_id'</li><li>'rideable_type'</li><li>'started_at'</li><li>'ended_at'</li><li>'start_station_name'</li><li>'start_station_id'</li><li>'end_station_name'</li><li>'end_station_id'</li><li>'start_lat'</li><li>'start_lng'</li><li>'end_lat'</li><li>'end_lng'</li><li>'member_casual'</li><li>'ride_length'</li><li>'day_of_week'</li></ol>\n"
      ],
      "text/latex": [
       "\\begin{enumerate*}\n",
       "\\item 'ride\\_id'\n",
       "\\item 'rideable\\_type'\n",
       "\\item 'started\\_at'\n",
       "\\item 'ended\\_at'\n",
       "\\item 'start\\_station\\_name'\n",
       "\\item 'start\\_station\\_id'\n",
       "\\item 'end\\_station\\_name'\n",
       "\\item 'end\\_station\\_id'\n",
       "\\item 'start\\_lat'\n",
       "\\item 'start\\_lng'\n",
       "\\item 'end\\_lat'\n",
       "\\item 'end\\_lng'\n",
       "\\item 'member\\_casual'\n",
       "\\item 'ride\\_length'\n",
       "\\item 'day\\_of\\_week'\n",
       "\\end{enumerate*}\n"
      ],
      "text/markdown": [
       "1. 'ride_id'\n",
       "2. 'rideable_type'\n",
       "3. 'started_at'\n",
       "4. 'ended_at'\n",
       "5. 'start_station_name'\n",
       "6. 'start_station_id'\n",
       "7. 'end_station_name'\n",
       "8. 'end_station_id'\n",
       "9. 'start_lat'\n",
       "10. 'start_lng'\n",
       "11. 'end_lat'\n",
       "12. 'end_lng'\n",
       "13. 'member_casual'\n",
       "14. 'ride_length'\n",
       "15. 'day_of_week'\n",
       "\n",
       "\n"
      ],
      "text/plain": [
       " [1] \"ride_id\"            \"rideable_type\"      \"started_at\"        \n",
       " [4] \"ended_at\"           \"start_station_name\" \"start_station_id\"  \n",
       " [7] \"end_station_name\"   \"end_station_id\"     \"start_lat\"         \n",
       "[10] \"start_lng\"          \"end_lat\"            \"end_lng\"           \n",
       "[13] \"member_casual\"      \"ride_length\"        \"day_of_week\"       "
      ]
     },
     "metadata": {},
     "output_type": "display_data"
    }
   ],
   "source": [
    "colnames(jan_22)\n",
    "colnames(feb_22)\n",
    "colnames(mar_22)\n",
    "colnames(april_22)\n",
    "colnames(may_22)\n",
    "colnames(june_22)\n",
    "colnames(july_22)\n",
    "colnames(aug_22)\n",
    "colnames(sep_22)\n",
    "colnames(oct_22)\n",
    "colnames(nov_22)\n",
    "colnames(dec_22)\n",
    "colnames(jan_23)"
   ]
  },
  {
   "cell_type": "markdown",
   "id": "114626d8",
   "metadata": {
    "papermill": {
     "duration": 0.016487,
     "end_time": "2023-02-25T11:01:22.951570",
     "exception": false,
     "start_time": "2023-02-25T11:01:22.935083",
     "status": "completed"
    },
    "tags": []
   },
   "source": [
    "All the column names are identical across the thirteen months.\n",
    "\n",
    "Joining data for last 12 months from February 2022- January 2023(as the analysis wsa done in February 2023) into single tibble named annual_data"
   ]
  },
  {
   "cell_type": "code",
   "execution_count": 21,
   "id": "16d79a0b",
   "metadata": {
    "execution": {
     "iopub.execute_input": "2023-02-25T11:01:22.987714Z",
     "iopub.status.busy": "2023-02-25T11:01:22.985935Z",
     "iopub.status.idle": "2023-02-25T11:01:32.785175Z",
     "shell.execute_reply": "2023-02-25T11:01:32.782651Z"
    },
    "papermill": {
     "duration": 9.821338,
     "end_time": "2023-02-25T11:01:32.789011",
     "exception": false,
     "start_time": "2023-02-25T11:01:22.967673",
     "status": "completed"
    },
    "tags": []
   },
   "outputs": [
    {
     "name": "stdout",
     "output_type": "stream",
     "text": [
      "tibble [5,754,248 × 15] (S3: tbl_df/tbl/data.frame)\n",
      " $ ride_id           : chr [1:5754248] \"E1E065E7ED285C02\" \"1602DCDC5B30FFE3\" \"BE7DD2AF4B55C4AF\" \"A1789BDF844412BE\" ...\n",
      " $ rideable_type     : chr [1:5754248] \"classic_bike\" \"classic_bike\" \"classic_bike\" \"classic_bike\" ...\n",
      " $ started_at        : chr [1:5754248] \"19-02-2022 18:08\" \"20-02-2022 17:41\" \"25-02-2022 18:55\" \"14-02-2022 11:57\" ...\n",
      " $ ended_at          : chr [1:5754248] \"19-02-2022 18:23\" \"20-02-2022 17:45\" \"25-02-2022 19:09\" \"14-02-2022 12:04\" ...\n",
      " $ start_station_name: chr [1:5754248] \"State St & Randolph St\" \"Halsted St & Wrightwood Ave\" \"State St & Randolph St\" \"Southport Ave & Waveland Ave\" ...\n",
      " $ start_station_id  : chr [1:5754248] \"TA1305000029\" \"TA1309000061\" \"TA1305000029\" \"13235\" ...\n",
      " $ end_station_name  : chr [1:5754248] \"Clark St & Lincoln Ave\" \"Southport Ave & Wrightwood Ave\" \"Canal St & Adams St\" \"Broadway & Sheridan Rd\" ...\n",
      " $ end_station_id    : chr [1:5754248] \"13179\" \"TA1307000113\" \"13011\" \"13323\" ...\n",
      " $ start_lat         : num [1:5754248] 41.9 41.9 41.9 41.9 41.9 ...\n",
      " $ start_lng         : num [1:5754248] -87.6 -87.6 -87.6 -87.7 -87.6 ...\n",
      " $ end_lat           : num [1:5754248] 41.9 41.9 41.9 42 41.9 ...\n",
      " $ end_lng           : num [1:5754248] -87.6 -87.7 -87.6 -87.6 -87.6 ...\n",
      " $ member_casual     : chr [1:5754248] \"member\" \"member\" \"member\" \"member\" ...\n",
      " $ ride_length       : 'hms' num [1:5754248] 00:15:00 00:04:00 00:13:00 00:06:00 ...\n",
      "  ..- attr(*, \"units\")= chr \"secs\"\n",
      " $ day_of_week       : num [1:5754248] 7 1 6 2 4 2 2 3 6 1 ...\n"
     ]
    }
   ],
   "source": [
    "annual_data = bind_rows(feb_22, mar_22, april_22, may_22, june_22, july_22, aug_22, sep_22, oct_22, nov_22, dec_22, jan_23)\n",
    "str(annual_data)"
   ]
  },
  {
   "cell_type": "code",
   "execution_count": 22,
   "id": "a979fda2",
   "metadata": {
    "execution": {
     "iopub.execute_input": "2023-02-25T11:01:32.824607Z",
     "iopub.status.busy": "2023-02-25T11:01:32.823135Z",
     "iopub.status.idle": "2023-02-25T11:01:33.128288Z",
     "shell.execute_reply": "2023-02-25T11:01:33.126017Z"
    },
    "papermill": {
     "duration": 0.326376,
     "end_time": "2023-02-25T11:01:33.131864",
     "exception": false,
     "start_time": "2023-02-25T11:01:32.805488",
     "status": "completed"
    },
    "tags": []
   },
   "outputs": [],
   "source": [
    "#converting member_casual into factors to see the number of levels present \n",
    "annual_data$member_casual <- as.factor(annual_data$member_casual)"
   ]
  },
  {
   "cell_type": "code",
   "execution_count": 23,
   "id": "49d7a630",
   "metadata": {
    "execution": {
     "iopub.execute_input": "2023-02-25T11:01:33.175911Z",
     "iopub.status.busy": "2023-02-25T11:01:33.173416Z",
     "iopub.status.idle": "2023-02-25T11:01:33.196187Z",
     "shell.execute_reply": "2023-02-25T11:01:33.193696Z"
    },
    "papermill": {
     "duration": 0.047435,
     "end_time": "2023-02-25T11:01:33.199252",
     "exception": false,
     "start_time": "2023-02-25T11:01:33.151817",
     "status": "completed"
    },
    "tags": []
   },
   "outputs": [
    {
     "name": "stdout",
     "output_type": "stream",
     "text": [
      " Factor w/ 2 levels \"casual\",\"member\": 2 2 2 2 2 2 2 2 2 2 ...\n"
     ]
    }
   ],
   "source": [
    "glimpse(annual_data$member_casual)"
   ]
  },
  {
   "cell_type": "markdown",
   "id": "c7f42ecc",
   "metadata": {
    "papermill": {
     "duration": 0.016364,
     "end_time": "2023-02-25T11:01:33.232568",
     "exception": false,
     "start_time": "2023-02-25T11:01:33.216204",
     "status": "completed"
    },
    "tags": []
   },
   "source": [
    "**The member_casual column consists of only two levels i.e. member and casual.** \n",
    "\n",
    "**Conducting descriptive analysis**"
   ]
  },
  {
   "cell_type": "code",
   "execution_count": 24,
   "id": "0a85a0de",
   "metadata": {
    "execution": {
     "iopub.execute_input": "2023-02-25T11:01:33.270973Z",
     "iopub.status.busy": "2023-02-25T11:01:33.268248Z",
     "iopub.status.idle": "2023-02-25T11:01:33.515388Z",
     "shell.execute_reply": "2023-02-25T11:01:33.513813Z"
    },
    "papermill": {
     "duration": 0.26959,
     "end_time": "2023-02-25T11:01:33.518558",
     "exception": false,
     "start_time": "2023-02-25T11:01:33.248968",
     "status": "completed"
    },
    "tags": []
   },
   "outputs": [
    {
     "name": "stdout",
     "output_type": "stream",
     "text": [
      "\u001b[90m# A tibble: 2 × 2\u001b[39m\n",
      "  member_casual       n\n",
      "  \u001b[3m\u001b[90m<fct>\u001b[39m\u001b[23m           \u001b[3m\u001b[90m<int>\u001b[39m\u001b[23m\n",
      "\u001b[90m1\u001b[39m casual        2\u001b[4m3\u001b[24m\u001b[4m4\u001b[24m\u001b[4m3\u001b[24m520\n",
      "\u001b[90m2\u001b[39m member        3\u001b[4m4\u001b[24m\u001b[4m1\u001b[24m\u001b[4m0\u001b[24m728\n"
     ]
    }
   ],
   "source": [
    "no_of_casual_riders <- annual_data %>% count(member_casual)\n",
    "print(no_of_casual_riders)"
   ]
  },
  {
   "cell_type": "code",
   "execution_count": 25,
   "id": "fe4be9e6",
   "metadata": {
    "execution": {
     "iopub.execute_input": "2023-02-25T11:01:33.559950Z",
     "iopub.status.busy": "2023-02-25T11:01:33.558322Z",
     "iopub.status.idle": "2023-02-25T11:01:33.571633Z",
     "shell.execute_reply": "2023-02-25T11:01:33.569955Z"
    },
    "papermill": {
     "duration": 0.034185,
     "end_time": "2023-02-25T11:01:33.574281",
     "exception": false,
     "start_time": "2023-02-25T11:01:33.540096",
     "status": "completed"
    },
    "tags": []
   },
   "outputs": [],
   "source": [
    "#On double checking, we realize that there are 2749 NA values under member_casual columns, which needs to be removed before we proceed with analysis further. \n",
    "#first_quarter <- first_quarter %>% mutate(member_casual = replace(member_casual, member_casual == \"NA\", NA)) %>% \n",
    "#  drop_na()\n",
    "#no_of_casual_riders <- first_quarter %>% count(member_casual)\n",
    "#print(no_of_casual_riders)"
   ]
  },
  {
   "cell_type": "code",
   "execution_count": 26,
   "id": "25cd1fc3",
   "metadata": {
    "execution": {
     "iopub.execute_input": "2023-02-25T11:01:33.611122Z",
     "iopub.status.busy": "2023-02-25T11:01:33.609389Z",
     "iopub.status.idle": "2023-02-25T11:01:36.167685Z",
     "shell.execute_reply": "2023-02-25T11:01:36.165503Z"
    },
    "papermill": {
     "duration": 2.579176,
     "end_time": "2023-02-25T11:01:36.170143",
     "exception": false,
     "start_time": "2023-02-25T11:01:33.590967",
     "status": "completed"
    },
    "tags": []
   },
   "outputs": [
    {
     "name": "stdout",
     "output_type": "stream",
     "text": [
      "\u001b[90m# A tibble: 1 × 1\u001b[39m\n",
      "  mean_ride_length\n",
      "  \u001b[3m\u001b[90m<drtn>\u001b[39m\u001b[23m          \n",
      "\u001b[90m1\u001b[39m 1333.504 secs   \n",
      "\u001b[90m# A tibble: 1 × 1\u001b[39m\n",
      "  mean_ride_length\n",
      "  \u001b[3m\u001b[90m<drtn>\u001b[39m\u001b[23m          \n",
      "\u001b[90m1\u001b[39m 736.8736 secs   \n"
     ]
    }
   ],
   "source": [
    "#mean ride length for casual and member rider in first quarter of 2022\n",
    "casual_members <- annual_data %>% filter(member_casual == \"casual\") \n",
    "mean_casual_ride_length <- casual_members %>% summarize(mean_ride_length = mean(ride_length, na.rm = TRUE))\n",
    "print(mean_casual_ride_length)\n",
    "members_riders <- annual_data %>% filter(member_casual == \"member\") \n",
    "mean_member_ride_length <- members_riders %>% summarize(mean_ride_length = mean(ride_length, na.rm = TRUE))\n",
    "print(mean_member_ride_length)"
   ]
  },
  {
   "cell_type": "markdown",
   "id": "740f91ba",
   "metadata": {
    "papermill": {
     "duration": 0.016637,
     "end_time": "2023-02-25T11:01:36.204754",
     "exception": false,
     "start_time": "2023-02-25T11:01:36.188117",
     "status": "completed"
    },
    "tags": []
   },
   "source": [
    "**The mean ride length for casual users is 1333.504 seconds whereas that for members is 736.8736 seconds.**"
   ]
  },
  {
   "cell_type": "markdown",
   "id": "5164d680",
   "metadata": {
    "papermill": {
     "duration": 0.016543,
     "end_time": "2023-02-25T11:01:36.238097",
     "exception": false,
     "start_time": "2023-02-25T11:01:36.221554",
     "status": "completed"
    },
    "tags": []
   },
   "source": [
    "**Looking for the pattern between weekdays and weekend.**"
   ]
  },
  {
   "cell_type": "code",
   "execution_count": 27,
   "id": "6362bda5",
   "metadata": {
    "execution": {
     "iopub.execute_input": "2023-02-25T11:01:36.275062Z",
     "iopub.status.busy": "2023-02-25T11:01:36.273466Z",
     "iopub.status.idle": "2023-02-25T11:01:39.313359Z",
     "shell.execute_reply": "2023-02-25T11:01:39.311814Z"
    },
    "papermill": {
     "duration": 3.060827,
     "end_time": "2023-02-25T11:01:39.315638",
     "exception": false,
     "start_time": "2023-02-25T11:01:36.254811",
     "status": "completed"
    },
    "tags": []
   },
   "outputs": [
    {
     "data": {
      "text/html": [
       "1476206"
      ],
      "text/latex": [
       "1476206"
      ],
      "text/markdown": [
       "1476206"
      ],
      "text/plain": [
       "[1] 1476206"
      ]
     },
     "metadata": {},
     "output_type": "display_data"
    },
    {
     "data": {
      "text/html": [
       "2569427"
      ],
      "text/latex": [
       "2569427"
      ],
      "text/markdown": [
       "2569427"
      ],
      "text/plain": [
       "[1] 2569427"
      ]
     },
     "metadata": {},
     "output_type": "display_data"
    }
   ],
   "source": [
    "#weekdays analysis \n",
    "weekdays <- c(2,3,4,5,6)\n",
    "no_of_rides_casual <- casual_members %>% filter(day_of_week %in% weekdays)\n",
    "no_of_rides_member <- members_riders %>% filter(day_of_week %in% weekdays)\n",
    "nrow(no_of_rides_casual)\n",
    "nrow(no_of_rides_member)\n"
   ]
  },
  {
   "cell_type": "code",
   "execution_count": 28,
   "id": "0218c31b",
   "metadata": {
    "execution": {
     "iopub.execute_input": "2023-02-25T11:01:39.352118Z",
     "iopub.status.busy": "2023-02-25T11:01:39.350681Z",
     "iopub.status.idle": "2023-02-25T11:02:00.841019Z",
     "shell.execute_reply": "2023-02-25T11:02:00.839401Z"
    },
    "papermill": {
     "duration": 21.511464,
     "end_time": "2023-02-25T11:02:00.843684",
     "exception": false,
     "start_time": "2023-02-25T11:01:39.332220",
     "status": "completed"
    },
    "tags": []
   },
   "outputs": [
    {
     "data": {
      "image/png": "[encoded data removed]"
     },
     "metadata": {
      "image/png": {
       "height": 420,
       "width": 420
      }
     },
     "output_type": "display_data"
    }
   ],
   "source": [
    "#creating a bar chart to talk about the distribution of riders during weekdays and weekend\n",
    "annual_weekdays <- annual_data %>% filter(day_of_week %in% weekdays)\n",
    "\n",
    "fig1 <- ggplot(data = annual_weekdays) + geom_bar(mapping = aes(x = member_casual, fill = member_casual)) + xlab(\"Categories of riders\") + ylab(\"Count\") + labs(title = \"Distribution of riders in weekdays (Mondays-Friday)\")\n",
    "fig1\n",
    "ggsave(\"distribution-riders-weekday.png\", plot = fig1, height=6, width=10, units=\"in\")"
   ]
  },
  {
   "cell_type": "code",
   "execution_count": 29,
   "id": "7a03493e",
   "metadata": {
    "execution": {
     "iopub.execute_input": "2023-02-25T11:02:00.881940Z",
     "iopub.status.busy": "2023-02-25T11:02:00.880437Z",
     "iopub.status.idle": "2023-02-25T11:02:02.353702Z",
     "shell.execute_reply": "2023-02-25T11:02:02.351994Z"
    },
    "papermill": {
     "duration": 1.494815,
     "end_time": "2023-02-25T11:02:02.356111",
     "exception": false,
     "start_time": "2023-02-25T11:02:00.861296",
     "status": "completed"
    },
    "tags": []
   },
   "outputs": [
    {
     "data": {
      "text/html": [
       "867314"
      ],
      "text/latex": [
       "867314"
      ],
      "text/markdown": [
       "867314"
      ],
      "text/plain": [
       "[1] 867314"
      ]
     },
     "metadata": {},
     "output_type": "display_data"
    },
    {
     "data": {
      "text/html": [
       "841301"
      ],
      "text/latex": [
       "841301"
      ],
      "text/markdown": [
       "841301"
      ],
      "text/plain": [
       "[1] 841301"
      ]
     },
     "metadata": {},
     "output_type": "display_data"
    }
   ],
   "source": [
    "#weekend analysis \n",
    "weekend <- c(1,7)\n",
    "no_of_rides_casual_end <- annual_data %>% filter(member_casual == \"casual\" & day_of_week %in% weekend)\n",
    "no_of_rides_member_end <- annual_data %>% filter(member_casual == \"member\" & day_of_week %in% weekend)\n",
    "nrow(no_of_rides_casual_end)\n",
    "nrow(no_of_rides_member_end)"
   ]
  },
  {
   "cell_type": "code",
   "execution_count": 30,
   "id": "1fffb82d",
   "metadata": {
    "execution": {
     "iopub.execute_input": "2023-02-25T11:02:02.394439Z",
     "iopub.status.busy": "2023-02-25T11:02:02.392965Z",
     "iopub.status.idle": "2023-02-25T11:02:12.042679Z",
     "shell.execute_reply": "2023-02-25T11:02:12.040119Z"
    },
    "papermill": {
     "duration": 9.672484,
     "end_time": "2023-02-25T11:02:12.045974",
     "exception": false,
     "start_time": "2023-02-25T11:02:02.373490",
     "status": "completed"
    },
    "tags": []
   },
   "outputs": [
    {
     "data": {
      "image/png": "[encoded data removed]"
     },
     "metadata": {
      "image/png": {
       "height": 420,
       "width": 420
      }
     },
     "output_type": "display_data"
    }
   ],
   "source": [
    "#creating a bar chart to talk about the distribution of riders during weekend\n",
    "annual_weekend <- annual_data %>% filter(day_of_week %in% weekend)\n",
    "\n",
    "fig2 <- ggplot(data = annual_weekend) + geom_bar(mapping = aes(x = member_casual, fill = member_casual)) + xlab(\"Categories of riders\") + ylab(\"Count\")+ labs(title = \"Distribution of riders in weekend\")\n",
    "fig2\n",
    "ggsave(\"distribution-riders-weekend.png\", plot = fig2, height=6, width=10, units=\"in\")\n"
   ]
  },
  {
   "cell_type": "markdown",
   "id": "801a6cd0",
   "metadata": {
    "papermill": {
     "duration": 0.017757,
     "end_time": "2023-02-25T11:02:12.081648",
     "exception": false,
     "start_time": "2023-02-25T11:02:12.063891",
     "status": "completed"
    },
    "tags": []
   },
   "source": [
    "Studying the difference in ridership between weekdays and weekend. "
   ]
  },
  {
   "cell_type": "code",
   "execution_count": 31,
   "id": "0324de0f",
   "metadata": {
    "execution": {
     "iopub.execute_input": "2023-02-25T11:02:12.121226Z",
     "iopub.status.busy": "2023-02-25T11:02:12.119655Z",
     "iopub.status.idle": "2023-02-25T11:02:29.641820Z",
     "shell.execute_reply": "2023-02-25T11:02:29.639304Z"
    },
    "papermill": {
     "duration": 17.544941,
     "end_time": "2023-02-25T11:02:29.644685",
     "exception": false,
     "start_time": "2023-02-25T11:02:12.099744",
     "status": "completed"
    },
    "tags": []
   },
   "outputs": [
    {
     "data": {
      "image/png": "[encoded data removed]"
     },
     "metadata": {
      "image/png": {
       "height": 420,
       "width": 420
      }
     },
     "output_type": "display_data"
    }
   ],
   "source": [
    "fig3 <- ggplot(data = annual_data) + geom_bar(mapping = aes(x = day_of_week, fill = member_casual)) + xlab(\"Weekdays (1-7: Monday-Sunday)\") + ylab(\"Rider count\")+ labs(title = \"Distribution of riders across week\")\n",
    "fig3\n",
    "ggsave(\"distribution-riders.png\", plot = fig3, height=6, width=10, units=\"in\")"
   ]
  },
  {
   "cell_type": "markdown",
   "id": "7b9e34a4",
   "metadata": {
    "papermill": {
     "duration": 0.018625,
     "end_time": "2023-02-25T11:02:29.682129",
     "exception": false,
     "start_time": "2023-02-25T11:02:29.663504",
     "status": "completed"
    },
    "tags": []
   },
   "source": [
    "Trying to look for patterns in ride across 12 months."
   ]
  },
  {
   "cell_type": "code",
   "execution_count": 32,
   "id": "ca13c8e6",
   "metadata": {
    "execution": {
     "iopub.execute_input": "2023-02-25T11:02:29.722942Z",
     "iopub.status.busy": "2023-02-25T11:02:29.721304Z",
     "iopub.status.idle": "2023-02-25T11:03:22.101623Z",
     "shell.execute_reply": "2023-02-25T11:03:22.099540Z"
    },
    "papermill": {
     "duration": 52.403062,
     "end_time": "2023-02-25T11:03:22.103966",
     "exception": false,
     "start_time": "2023-02-25T11:02:29.700904",
     "status": "completed"
    },
    "tags": []
   },
   "outputs": [],
   "source": [
    "#creating a new column for date for each ride extracted from start-time of ride\n",
    "annual_data$Months <- format(as.Date(annual_data$`started_at`,\"%Y-%m-%d\"), format = \"%m\")"
   ]
  },
  {
   "cell_type": "code",
   "execution_count": 33,
   "id": "2dc754f9",
   "metadata": {
    "execution": {
     "iopub.execute_input": "2023-02-25T11:03:22.145879Z",
     "iopub.status.busy": "2023-02-25T11:03:22.144245Z",
     "iopub.status.idle": "2023-02-25T11:03:31.379250Z",
     "shell.execute_reply": "2023-02-25T11:03:31.377560Z"
    },
    "papermill": {
     "duration": 9.258339,
     "end_time": "2023-02-25T11:03:31.381840",
     "exception": false,
     "start_time": "2023-02-25T11:03:22.123501",
     "status": "completed"
    },
    "tags": []
   },
   "outputs": [
    {
     "data": {
      "image/png": "[encoded data removed]"
     },
     "metadata": {
      "image/png": {
       "height": 420,
       "width": 420
      }
     },
     "output_type": "display_data"
    }
   ],
   "source": [
    "#plotting graph for studying the distribution of casual and member riders across months \n",
    "fig4 <- ggplot(data = annual_data) + geom_bar(mapping = aes(x = Months, fill = member_casual)) + xlab(\"Monthly Distribution\") + ylab(\"Rider count\")+ labs(title = \"Annaul distribution of riders\")\n",
    "fig4"
   ]
  },
  {
   "cell_type": "markdown",
   "id": "e20c2029",
   "metadata": {
    "papermill": {
     "duration": 0.019641,
     "end_time": "2023-02-25T11:03:31.421857",
     "exception": false,
     "start_time": "2023-02-25T11:03:31.402216",
     "status": "completed"
    },
    "tags": []
   },
   "source": [
    "Following conclusions can be drawn from the above analysis: \n",
    "\n",
    "**1. Over the weekdays, member riders are more in number as compared to casual riders which stays true during the weeekend too. However, the difference between the member and casual riders on weekends are comparatively very smaller.**\n",
    "\n",
    "**2. The average ride length is more for casual riders than cyclist members.**\n"
   ]
  },
  {
   "cell_type": "markdown",
   "id": "33257876",
   "metadata": {
    "papermill": {
     "duration": 0.019672,
     "end_time": "2023-02-25T11:03:31.461190",
     "exception": false,
     "start_time": "2023-02-25T11:03:31.441518",
     "status": "completed"
    },
    "tags": []
   },
   "source": [
    "The recommendations that can be made for the Marketing team are: \n",
    "\n",
    "**1. Across the year, advertising campaigns should be done more extensively during May-September as these are the top five months for maximum riders.**\n",
    "\n",
    "**2. The advertising campaigns should be done more strongly on weekends as number of casual riders are increased substantially.**\n",
    "\n",
    "**3. The casual riders can be offered a good sign up discount for yearly purchase.**"
   ]
  }
 ],
 "metadata": {
  "kernelspec": {
   "display_name": "R",
   "language": "R",
   "name": "ir"
  },
  "language_info": {
   "codemirror_mode": "r",
   "file_extension": ".r",
   "mimetype": "text/x-r-source",
   "name": "R",
   "pygments_lexer": "r",
   "version": "4.0.5"
  },
  "papermill": {
   "default_parameters": {},
   "duration": 409.525969,
   "end_time": "2023-02-25T11:03:31.905353",
   "environment_variables": {},
   "exception": null,
   "input_path": "__notebook__.ipynb",
   "output_path": "__notebook__.ipynb",
   "parameters": {},
   "start_time": "2023-02-25T10:56:42.379384",
   "version": "2.4.0"
  }
 },
 "nbformat": 4,
 "nbformat_minor": 5
}
